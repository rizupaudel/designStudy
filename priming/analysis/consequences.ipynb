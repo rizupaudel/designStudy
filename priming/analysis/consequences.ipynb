{
 "cells": [
  {
   "cell_type": "code",
   "execution_count": 1,
   "metadata": {},
   "outputs": [],
   "source": [
    "from zget_data import get_responses, get_qdetails\n",
    "import pandas as pd"
   ]
  },
  {
   "cell_type": "code",
   "execution_count": 4,
   "metadata": {},
   "outputs": [
    {
     "name": "stdout",
     "output_type": "stream",
     "text": [
      "../responses/A8KX1HFH8NE2Q.json: Expecting value: line 1 column 1 (char 0)\n",
      "../responses/A98E8M4QLI9RS.json: Expecting value: line 1 column 1 (char 0)\n",
      "../responses/A1KTPYX40PRLVW.json: Expecting value: line 1 column 1 (char 0)\n",
      "../responses/A338RDAH4UAXDH.json: Expecting value: line 1 column 1 (char 0)\n",
      "../responses/A3QSSPYCKPOVJD.json: Expecting value: line 1 column 1 (char 0)\n",
      "../responses/A3UKRC3LBM1LEW.json: Expecting value: line 1 column 1 (char 0)\n"
     ]
    },
    {
     "data": {
      "text/plain": [
       "[defaultdict(str, {'password2': 'CozyBi11$'}),\n",
       " defaultdict(str, {'password2': 'PRO333TECT'}),\n",
       " defaultdict(str, {'password2': 'moasdjkleR-'}),\n",
       " defaultdict(str, {'password2': 'visotech@2023'}),\n",
       " defaultdict(str, {'password2': 'blake'}),\n",
       " defaultdict(str, {'password2': 'art25'}),\n",
       " defaultdict(str, {'password2': 'Up9@$LZm'}),\n",
       " defaultdict(str, {'password2': 'berry56'}),\n",
       " defaultdict(str, {'password2': '123456789'}),\n",
       " defaultdict(str, {'password2': 'vistech2022'}),\n",
       " defaultdict(str, {'password2': '12john$ena'}),\n",
       " defaultdict(str, {'password2': 'ar@1993'}),\n",
       " defaultdict(str, {'password2': 'vistech@2022'}),\n",
       " defaultdict(str, {'password2': 'PMTSSAIBI!'}),\n",
       " defaultdict(str, {'password2': 'Mikel@1234'}),\n",
       " defaultdict(str, {'password2': '789*632'}),\n",
       " defaultdict(str, {'password2': 'Cherish@love14'}),\n",
       " defaultdict(str, {'password2': 'alicia01'}),\n",
       " defaultdict(str, {'password2': 'Password123'}),\n",
       " defaultdict(str, {'password2': 'ch@1990'}),\n",
       " defaultdict(str, {'password2': 'Trezzle@51'}),\n",
       " defaultdict(str, {'password2': 'D15b!mYp455w0Rd'}),\n",
       " defaultdict(str, {'password2': 'Logomint@123'}),\n",
       " defaultdict(str, {'password2': 'Thlsis10&30'}),\n",
       " defaultdict(str, {'password2': 'pFUBARfubar1!d'}),\n",
       " defaultdict(str, {'password2': \"'r3oyA_,.2wC;b[t,>hqENlnQV`w,$Q`\"}),\n",
       " defaultdict(str, {'password2': 'houston@201#'}),\n",
       " defaultdict(str, {'password2': 'alskqpwo!@#'}),\n",
       " defaultdict(str, {'password2': 'Ws14827!Ld'})]"
      ]
     },
     "execution_count": 4,
     "metadata": {},
     "output_type": "execute_result"
    }
   ],
   "source": [
    "password_response, time_response, survey_response = get_responses(5)"
   ]
  },
  {
   "cell_type": "code",
   "execution_count": null,
   "metadata": {},
   "outputs": [],
   "source": []
  }
 ],
 "metadata": {
  "kernelspec": {
   "display_name": "base",
   "language": "python",
   "name": "python3"
  },
  "language_info": {
   "codemirror_mode": {
    "name": "ipython",
    "version": 3
   },
   "file_extension": ".py",
   "mimetype": "text/x-python",
   "name": "python",
   "nbconvert_exporter": "python",
   "pygments_lexer": "ipython3",
   "version": "3.8.8"
  },
  "orig_nbformat": 4,
  "vscode": {
   "interpreter": {
    "hash": "a7156950e440dfa2ad8ddabc276de79f590889e0e9da6c6622eef2b5a4df730d"
   }
  }
 },
 "nbformat": 4,
 "nbformat_minor": 2
}
