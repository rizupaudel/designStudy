{
 "cells": [
  {
   "cell_type": "code",
   "execution_count": 8,
   "metadata": {},
   "outputs": [],
   "source": [
    "from zget_data import get_responses, get_qdetails, get_questions, page_map, quest_map, attention\n",
    "from collections import defaultdict\n",
    "import pandas as pd\n",
    "import json\n",
    "from selenium import webdriver\n",
    "from selenium.webdriver.common.by import By"
   ]
  },
  {
   "cell_type": "code",
   "execution_count": 9,
   "metadata": {},
   "outputs": [
    {
     "name": "stdout",
     "output_type": "stream",
     "text": [
      "Total: 163; \n",
      "Attentive: 131; Non Attentive: 32\n"
     ]
    }
   ],
   "source": [
    "password_response, time_response, survey_response, dids = get_responses()"
   ]
  },
  {
   "cell_type": "code",
   "execution_count": 10,
   "metadata": {},
   "outputs": [],
   "source": [
    "password = pd.DataFrame(password_response)\n",
    "passwords = password['password2'].to_list()"
   ]
  },
  {
   "cell_type": "code",
   "execution_count": 11,
   "metadata": {},
   "outputs": [],
   "source": [
    "driver = webdriver.Chrome()\n",
    "driver.get(\"https://passwordmonster.com\")\n",
    "\n",
    "pass_strength = {}\n",
    "for pss in passwords:\n",
    "    element = driver.find_element(By.ID, 'lgd_out_pg_pass')\n",
    "    element.send_keys(pss)\n",
    "    element.clear()\n",
    "    complexity = driver.find_element(By.ID, 'complexity-span')\n",
    "    pass_strength[pss] = complexity.get_attribute(\"innerHTML\")"
   ]
  },
  {
   "cell_type": "code",
   "execution_count": 13,
   "metadata": {},
   "outputs": [],
   "source": [
    "with open(\"pstrength.json\", \"w\") as fp:\n",
    "    json.dump(pass_strength, fp)"
   ]
  }
 ],
 "metadata": {
  "kernelspec": {
   "display_name": "Python 3",
   "language": "python",
   "name": "python3"
  },
  "language_info": {
   "codemirror_mode": {
    "name": "ipython",
    "version": 3
   },
   "file_extension": ".py",
   "mimetype": "text/x-python",
   "name": "python",
   "nbconvert_exporter": "python",
   "pygments_lexer": "ipython3",
   "version": "3.10.6"
  },
  "orig_nbformat": 4,
  "vscode": {
   "interpreter": {
    "hash": "916dbcbb3f70747c44a77c7bcd40155683ae19c65e1c03b4aa3499c5328201f1"
   }
  }
 },
 "nbformat": 4,
 "nbformat_minor": 2
}
