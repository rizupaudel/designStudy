{
 "cells": [
  {
   "cell_type": "code",
   "execution_count": 281,
   "metadata": {},
   "outputs": [],
   "source": [
    "from zget_data import get_responses, get_qdetails, get_questions, get_design, page_map, quest_map, attention, did_map\n",
    "from scipy.stats import shapiro, yeojohnson, kruskal\n",
    "import scikit_posthocs as sp\n",
    "from collections import defaultdict\n",
    "from selenium import webdriver\n",
    "from selenium.webdriver.common.by import By\n",
    "import matplotlib.pyplot as plt\n",
    "import pandas as pd\n",
    "import numpy as np\n",
    "import seaborn as sns\n",
    "import json\n",
    "import os"
   ]
  },
  {
   "cell_type": "code",
   "execution_count": 282,
   "metadata": {},
   "outputs": [
    {
     "name": "stdout",
     "output_type": "stream",
     "text": [
      "Total: 163; \n",
      "Attentive: 131; Non Attentive: 32\n"
     ]
    }
   ],
   "source": [
    "password_response, time_response, survey_response, dids = get_responses()"
   ]
  },
  {
   "cell_type": "code",
   "execution_count": 283,
   "metadata": {},
   "outputs": [],
   "source": [
    "password_response_df = pd.DataFrame(password_response)\n",
    "passwords = password_response_df['password2'].to_list()\n",
    "\n",
    "pass_strength = {}\n",
    "\n",
    "pfile = \"data/password/pstrength.json\"\n",
    "if os.path.exists(pfile):\n",
    "    with open(pfile, \"r\") as fp:\n",
    "        pass_strength.update(json.load(fp))\n",
    "else:\n",
    "    driver = webdriver.Chrome()\n",
    "    driver.get(\"https://passwordmonster.com\")\n",
    "\n",
    "    for pss in passwords:\n",
    "        element = driver.find_element(By.ID, 'lgd_out_pg_pass')\n",
    "        element.send_keys(pss)\n",
    "        element.clear()\n",
    "        complexity = driver.find_element(By.ID, 'complexity-span')\n",
    "        pass_strength[pss] = complexity.get_attribute(\"innerHTML\")\n",
    "\n",
    "    with open(\"password/pstrength.json\", \"w\") as fp:\n",
    "        json.dump(pass_strength, fp)"
   ]
  },
  {
   "cell_type": "code",
   "execution_count": 284,
   "metadata": {},
   "outputs": [
    {
     "data": {
      "text/html": [
       "<div>\n",
       "<style scoped>\n",
       "    .dataframe tbody tr th:only-of-type {\n",
       "        vertical-align: middle;\n",
       "    }\n",
       "\n",
       "    .dataframe tbody tr th {\n",
       "        vertical-align: top;\n",
       "    }\n",
       "\n",
       "    .dataframe thead th {\n",
       "        text-align: right;\n",
       "    }\n",
       "</style>\n",
       "<table border=\"1\" class=\"dataframe\">\n",
       "  <thead>\n",
       "    <tr style=\"text-align: right;\">\n",
       "      <th></th>\n",
       "      <th>password2</th>\n",
       "      <th>password2_recall1</th>\n",
       "      <th>password2_recall2</th>\n",
       "      <th>password2_recall3</th>\n",
       "      <th>Actual Strength</th>\n",
       "    </tr>\n",
       "  </thead>\n",
       "  <tbody>\n",
       "    <tr>\n",
       "      <th>0</th>\n",
       "      <td>Prolific1!</td>\n",
       "      <td>NaN</td>\n",
       "      <td>NaN</td>\n",
       "      <td>NaN</td>\n",
       "      <td>-3.0</td>\n",
       "    </tr>\n",
       "    <tr>\n",
       "      <th>1</th>\n",
       "      <td>pSVNLb85CUNPCwX</td>\n",
       "      <td>NaN</td>\n",
       "      <td>NaN</td>\n",
       "      <td>NaN</td>\n",
       "      <td>3.0</td>\n",
       "    </tr>\n",
       "    <tr>\n",
       "      <th>2</th>\n",
       "      <td>CozyBi11$</td>\n",
       "      <td>NaN</td>\n",
       "      <td>NaN</td>\n",
       "      <td>NaN</td>\n",
       "      <td>-1.5</td>\n",
       "    </tr>\n",
       "    <tr>\n",
       "      <th>3</th>\n",
       "      <td>PRO333TECT</td>\n",
       "      <td>NaN</td>\n",
       "      <td>NaN</td>\n",
       "      <td>NaN</td>\n",
       "      <td>3.0</td>\n",
       "    </tr>\n",
       "    <tr>\n",
       "      <th>4</th>\n",
       "      <td>amandanike@91s</td>\n",
       "      <td>NaN</td>\n",
       "      <td>NaN</td>\n",
       "      <td>NaN</td>\n",
       "      <td>0.0</td>\n",
       "    </tr>\n",
       "    <tr>\n",
       "      <th>...</th>\n",
       "      <td>...</td>\n",
       "      <td>...</td>\n",
       "      <td>...</td>\n",
       "      <td>...</td>\n",
       "      <td>...</td>\n",
       "    </tr>\n",
       "    <tr>\n",
       "      <th>126</th>\n",
       "      <td>m0gRBn$^$V95806MS*jl</td>\n",
       "      <td>NaN</td>\n",
       "      <td>NaN</td>\n",
       "      <td>NaN</td>\n",
       "      <td>3.0</td>\n",
       "    </tr>\n",
       "    <tr>\n",
       "      <th>127</th>\n",
       "      <td>Ws14827!Ld</td>\n",
       "      <td>NaN</td>\n",
       "      <td>NaN</td>\n",
       "      <td>NaN</td>\n",
       "      <td>3.0</td>\n",
       "    </tr>\n",
       "    <tr>\n",
       "      <th>128</th>\n",
       "      <td>DCs#Bnk7</td>\n",
       "      <td>DCsBnk7</td>\n",
       "      <td>DCs#BNk7</td>\n",
       "      <td>NaN</td>\n",
       "      <td>3.0</td>\n",
       "    </tr>\n",
       "    <tr>\n",
       "      <th>129</th>\n",
       "      <td>4518184@@</td>\n",
       "      <td>NaN</td>\n",
       "      <td>NaN</td>\n",
       "      <td>NaN</td>\n",
       "      <td>0.0</td>\n",
       "    </tr>\n",
       "    <tr>\n",
       "      <th>130</th>\n",
       "      <td>A34DOHSAMG5E8A</td>\n",
       "      <td>NaN</td>\n",
       "      <td>NaN</td>\n",
       "      <td>NaN</td>\n",
       "      <td>3.0</td>\n",
       "    </tr>\n",
       "  </tbody>\n",
       "</table>\n",
       "<p>131 rows × 5 columns</p>\n",
       "</div>"
      ],
      "text/plain": [
       "                password2 password2_recall1 password2_recall2  \\\n",
       "0              Prolific1!               NaN               NaN   \n",
       "1         pSVNLb85CUNPCwX               NaN               NaN   \n",
       "2               CozyBi11$               NaN               NaN   \n",
       "3              PRO333TECT               NaN               NaN   \n",
       "4          amandanike@91s               NaN               NaN   \n",
       "..                    ...               ...               ...   \n",
       "126  m0gRBn$^$V95806MS*jl               NaN               NaN   \n",
       "127            Ws14827!Ld               NaN               NaN   \n",
       "128              DCs#Bnk7           DCsBnk7          DCs#BNk7   \n",
       "129             4518184@@               NaN               NaN   \n",
       "130        A34DOHSAMG5E8A               NaN               NaN   \n",
       "\n",
       "    password2_recall3  Actual Strength  \n",
       "0                 NaN             -3.0  \n",
       "1                 NaN              3.0  \n",
       "2                 NaN             -1.5  \n",
       "3                 NaN              3.0  \n",
       "4                 NaN              0.0  \n",
       "..                ...              ...  \n",
       "126               NaN              3.0  \n",
       "127               NaN              3.0  \n",
       "128               NaN              3.0  \n",
       "129               NaN              0.0  \n",
       "130               NaN              3.0  \n",
       "\n",
       "[131 rows x 5 columns]"
      ]
     },
     "execution_count": 284,
     "metadata": {},
     "output_type": "execute_result"
    }
   ],
   "source": [
    "pass_stmap = {\n",
    "    'Very Weak': -3,\n",
    "    'Weak': -1.5,\n",
    "    'Medium': 0,\n",
    "    'Strong': 1.5,\n",
    "    'Very Strong': 3,\n",
    "}\n",
    "password_response_df['Actual Strength'] = password_response_df['password2'].apply(lambda x: pass_stmap.get(pass_strength.get(x)))\n",
    "password_response_df"
   ]
  },
  {
   "cell_type": "code",
   "execution_count": 285,
   "metadata": {},
   "outputs": [
    {
     "name": "stderr",
     "output_type": "stream",
     "text": [
      "/var/folders/y0/_c2r85zn1137ydw7ltj1v0pr0000gq/T/ipykernel_21687/366780574.py:7: FutureWarning: In a future version, `df.iloc[:, i] = newvals` will attempt to set the values inplace instead of always setting a new array. To retain the old behavior, use either `df[df.columns[i]] = newvals` or, if columns are non-unique, `df.isetitem(i, newvals)`\n",
      "  fpass.update(normfpass)\n"
     ]
    }
   ],
   "source": [
    "survey_response_df = pd.DataFrame(survey_response)\n",
    "\n",
    "page_id = '3'\n",
    "normqsid = ['1-1', '1-4']\n",
    "fpass = pd.DataFrame(survey_response_df[page_id].to_dict()).astype(int)\n",
    "normfpass = 8 - fpass.loc[normqsid]\n",
    "fpass.update(normfpass)\n",
    "\n",
    "new_index = {}\n",
    "for qsid in fpass.index:\n",
    "    likert_scale = 'low' if qsid in normqsid else 'high'\n",
    "    new_index[qsid] = json.loads(get_qdetails(page_id, qsid).replace(\"'\", '\"').split('\\n')[1]).get('title')\n",
    "fpass.rename(columns=new_index, inplace=True)\n",
    "fpass = fpass.rename(new_index)\n",
    "password_generation = pd.DataFrame(fpass.T.mean(axis=1), columns=['Password Generation'])\n",
    "pg_prenorm = password_generation.join(pd.DataFrame([get_design(str(did)) for did in dids], columns=['design']))\n",
    "\n",
    "# normalize scale 1 to 8 to scale -3 to 3\n",
    "normspassb = password_generation - 4\n",
    "password_generation.update(normspassb)"
   ]
  },
  {
   "cell_type": "code",
   "execution_count": 286,
   "metadata": {},
   "outputs": [],
   "source": [
    "page_id = '12'\n",
    "normqsid = []\n",
    "spass = pd.DataFrame(survey_response_df[page_id].to_dict()).astype(int)\n",
    "spass.drop(attention.get('12'), inplace=True)\n",
    "normspass = 8 - spass.loc[normqsid]\n",
    "spass.update(normspass)\n",
    "\n",
    "# normalize scale 1 to 8 to scale -3 to 3\n",
    "normspass = spass - 4\n",
    "spass.update(normspass)\n",
    "\n",
    "new_index = {}\n",
    "for qsid in spass.index:\n",
    "    new_index[qsid] = json.loads(get_qdetails(page_id, qsid).replace(\"'\", '\"').split('\\n')[1]).get('keyword')\n",
    "new_index\n",
    "spass = spass.rename(new_index)\n",
    "spass = spass.T"
   ]
  },
  {
   "cell_type": "code",
   "execution_count": 287,
   "metadata": {},
   "outputs": [
    {
     "data": {
      "text/html": [
       "<div>\n",
       "<style scoped>\n",
       "    .dataframe tbody tr th:only-of-type {\n",
       "        vertical-align: middle;\n",
       "    }\n",
       "\n",
       "    .dataframe tbody tr th {\n",
       "        vertical-align: top;\n",
       "    }\n",
       "\n",
       "    .dataframe thead th {\n",
       "        text-align: right;\n",
       "    }\n",
       "</style>\n",
       "<table border=\"1\" class=\"dataframe\">\n",
       "  <thead>\n",
       "    <tr style=\"text-align: right;\">\n",
       "      <th></th>\n",
       "      <th>Password Strength</th>\n",
       "      <th>Motivation After Design</th>\n",
       "      <th>Hard to Remember</th>\n",
       "      <th>Guessed by Hacker</th>\n",
       "      <th>Guessed by FnF</th>\n",
       "      <th>Stronger than Usual</th>\n",
       "      <th>Password Generation</th>\n",
       "      <th>Actual Strength</th>\n",
       "      <th>design</th>\n",
       "    </tr>\n",
       "  </thead>\n",
       "  <tbody>\n",
       "    <tr>\n",
       "      <th>0</th>\n",
       "      <td>2</td>\n",
       "      <td>1</td>\n",
       "      <td>-3</td>\n",
       "      <td>-2</td>\n",
       "      <td>-3</td>\n",
       "      <td>-1</td>\n",
       "      <td>-1.25</td>\n",
       "      <td>-3.0</td>\n",
       "      <td>Metaphor</td>\n",
       "    </tr>\n",
       "    <tr>\n",
       "      <th>1</th>\n",
       "      <td>3</td>\n",
       "      <td>-3</td>\n",
       "      <td>3</td>\n",
       "      <td>-3</td>\n",
       "      <td>-3</td>\n",
       "      <td>0</td>\n",
       "      <td>1.75</td>\n",
       "      <td>3.0</td>\n",
       "      <td>Personal</td>\n",
       "    </tr>\n",
       "    <tr>\n",
       "      <th>2</th>\n",
       "      <td>2</td>\n",
       "      <td>2</td>\n",
       "      <td>-2</td>\n",
       "      <td>-1</td>\n",
       "      <td>-3</td>\n",
       "      <td>2</td>\n",
       "      <td>-2.00</td>\n",
       "      <td>-1.5</td>\n",
       "      <td>Consequences</td>\n",
       "    </tr>\n",
       "    <tr>\n",
       "      <th>3</th>\n",
       "      <td>2</td>\n",
       "      <td>3</td>\n",
       "      <td>2</td>\n",
       "      <td>-3</td>\n",
       "      <td>-3</td>\n",
       "      <td>2</td>\n",
       "      <td>1.50</td>\n",
       "      <td>3.0</td>\n",
       "      <td>Consequences</td>\n",
       "    </tr>\n",
       "    <tr>\n",
       "      <th>4</th>\n",
       "      <td>3</td>\n",
       "      <td>3</td>\n",
       "      <td>2</td>\n",
       "      <td>-3</td>\n",
       "      <td>-3</td>\n",
       "      <td>3</td>\n",
       "      <td>1.75</td>\n",
       "      <td>0.0</td>\n",
       "      <td>Logos</td>\n",
       "    </tr>\n",
       "  </tbody>\n",
       "</table>\n",
       "</div>"
      ],
      "text/plain": [
       "   Password Strength  Motivation After Design  Hard to Remember  \\\n",
       "0                  2                        1                -3   \n",
       "1                  3                       -3                 3   \n",
       "2                  2                        2                -2   \n",
       "3                  2                        3                 2   \n",
       "4                  3                        3                 2   \n",
       "\n",
       "   Guessed by Hacker  Guessed by FnF  Stronger than Usual  \\\n",
       "0                 -2              -3                   -1   \n",
       "1                 -3              -3                    0   \n",
       "2                 -1              -3                    2   \n",
       "3                 -3              -3                    2   \n",
       "4                 -3              -3                    3   \n",
       "\n",
       "   Password Generation  Actual Strength        design  \n",
       "0                -1.25             -3.0      Metaphor  \n",
       "1                 1.75              3.0      Personal  \n",
       "2                -2.00             -1.5  Consequences  \n",
       "3                 1.50              3.0  Consequences  \n",
       "4                 1.75              0.0         Logos  "
      ]
     },
     "metadata": {},
     "output_type": "display_data"
    },
    {
     "name": "stderr",
     "output_type": "stream",
     "text": [
      "/var/folders/y0/_c2r85zn1137ydw7ltj1v0pr0000gq/T/ipykernel_21687/2300871009.py:4: FutureWarning: The default value of numeric_only in DataFrame.mean is deprecated. In a future version, it will default to False. In addition, specifying 'numeric_only=None' is deprecated. Select only valid columns or specify the value of numeric_only to silence this warning.\n",
      "  password.mean()\n"
     ]
    },
    {
     "data": {
      "text/plain": [
       "Password Strength          1.877863\n",
       "Motivation After Design    1.755725\n",
       "Hard to Remember           0.305344\n",
       "Guessed by Hacker         -1.038168\n",
       "Guessed by FnF            -1.297710\n",
       "Stronger than Usual        0.763359\n",
       "Password Generation        0.583969\n",
       "Actual Strength           -0.137405\n",
       "dtype: float64"
      ]
     },
     "execution_count": 287,
     "metadata": {},
     "output_type": "execute_result"
    }
   ],
   "source": [
    "password = spass.join(password_generation).join(password_response_df['Actual Strength']).join(pd.DataFrame([get_design(str(did)) for did in dids], columns=['design']))\n",
    "password.to_csv(\"data/csvs/password.csv\", index=False)\n",
    "display(password.head())\n",
    "password.mean()"
   ]
  },
  {
   "cell_type": "code",
   "execution_count": 288,
   "metadata": {},
   "outputs": [
    {
     "data": {
      "image/png": "[encoded data removed]",
      "text/plain": [
       "<Figure size 640x480 with 1 Axes>"
      ]
     },
     "metadata": {},
     "output_type": "display_data"
    }
   ],
   "source": [
    "_ = pg_prenorm.groupby('design').mean().div(7).mul(5).plot.bar()"
   ]
  },
  {
   "cell_type": "code",
   "execution_count": 289,
   "metadata": {},
   "outputs": [
    {
     "name": "stderr",
     "output_type": "stream",
     "text": [
      "/var/folders/y0/_c2r85zn1137ydw7ltj1v0pr0000gq/T/ipykernel_21687/1550836245.py:1: FutureWarning: The default value of numeric_only in DataFrame.mean is deprecated. In a future version, it will default to False. In addition, specifying 'numeric_only=None' is deprecated. Select only valid columns or specify the value of numeric_only to silence this warning.\n",
      "  pg_prenorm.mean().div(7).mul(5).plot.bar()\n"
     ]
    },
    {
     "data": {
      "text/plain": [
       "<AxesSubplot: >"
      ]
     },
     "execution_count": 289,
     "metadata": {},
     "output_type": "execute_result"
    },
    {
     "data": {
      "image/png": "[encoded data removed]",
      "text/plain": [
       "<Figure size 640x480 with 1 Axes>"
      ]
     },
     "metadata": {},
     "output_type": "display_data"
    }
   ],
   "source": [
    "pg_prenorm.mean().div(7).mul(5).plot.bar()"
   ]
  },
  {
   "cell_type": "code",
   "execution_count": 290,
   "metadata": {},
   "outputs": [
    {
     "data": {
      "text/html": [
       "<div>\n",
       "<style scoped>\n",
       "    .dataframe tbody tr th:only-of-type {\n",
       "        vertical-align: middle;\n",
       "    }\n",
       "\n",
       "    .dataframe tbody tr th {\n",
       "        vertical-align: top;\n",
       "    }\n",
       "\n",
       "    .dataframe thead th {\n",
       "        text-align: right;\n",
       "    }\n",
       "</style>\n",
       "<table border=\"1\" class=\"dataframe\">\n",
       "  <thead>\n",
       "    <tr style=\"text-align: right;\">\n",
       "      <th></th>\n",
       "      <th>Password Strength</th>\n",
       "      <th>Motivation After Design</th>\n",
       "      <th>Hard to Remember</th>\n",
       "      <th>Guessed by Hacker</th>\n",
       "      <th>Guessed by FnF</th>\n",
       "      <th>Stronger than Usual</th>\n",
       "      <th>Password Generation</th>\n",
       "      <th>Actual Strength</th>\n",
       "      <th>design</th>\n",
       "    </tr>\n",
       "  </thead>\n",
       "  <tbody>\n",
       "    <tr>\n",
       "      <th>0</th>\n",
       "      <td>2</td>\n",
       "      <td>1</td>\n",
       "      <td>-3</td>\n",
       "      <td>-2</td>\n",
       "      <td>-3</td>\n",
       "      <td>-1</td>\n",
       "      <td>-1.25</td>\n",
       "      <td>-3.0</td>\n",
       "      <td>Metaphor</td>\n",
       "    </tr>\n",
       "    <tr>\n",
       "      <th>1</th>\n",
       "      <td>3</td>\n",
       "      <td>-3</td>\n",
       "      <td>3</td>\n",
       "      <td>-3</td>\n",
       "      <td>-3</td>\n",
       "      <td>0</td>\n",
       "      <td>1.75</td>\n",
       "      <td>3.0</td>\n",
       "      <td>Personal</td>\n",
       "    </tr>\n",
       "    <tr>\n",
       "      <th>2</th>\n",
       "      <td>2</td>\n",
       "      <td>2</td>\n",
       "      <td>-2</td>\n",
       "      <td>-1</td>\n",
       "      <td>-3</td>\n",
       "      <td>2</td>\n",
       "      <td>-2.00</td>\n",
       "      <td>-1.5</td>\n",
       "      <td>Consequences</td>\n",
       "    </tr>\n",
       "    <tr>\n",
       "      <th>3</th>\n",
       "      <td>2</td>\n",
       "      <td>3</td>\n",
       "      <td>2</td>\n",
       "      <td>-3</td>\n",
       "      <td>-3</td>\n",
       "      <td>2</td>\n",
       "      <td>1.50</td>\n",
       "      <td>3.0</td>\n",
       "      <td>Consequences</td>\n",
       "    </tr>\n",
       "    <tr>\n",
       "      <th>4</th>\n",
       "      <td>3</td>\n",
       "      <td>3</td>\n",
       "      <td>2</td>\n",
       "      <td>-3</td>\n",
       "      <td>-3</td>\n",
       "      <td>3</td>\n",
       "      <td>1.75</td>\n",
       "      <td>0.0</td>\n",
       "      <td>Logos</td>\n",
       "    </tr>\n",
       "    <tr>\n",
       "      <th>...</th>\n",
       "      <td>...</td>\n",
       "      <td>...</td>\n",
       "      <td>...</td>\n",
       "      <td>...</td>\n",
       "      <td>...</td>\n",
       "      <td>...</td>\n",
       "      <td>...</td>\n",
       "      <td>...</td>\n",
       "      <td>...</td>\n",
       "    </tr>\n",
       "    <tr>\n",
       "      <th>126</th>\n",
       "      <td>3</td>\n",
       "      <td>0</td>\n",
       "      <td>3</td>\n",
       "      <td>-3</td>\n",
       "      <td>-3</td>\n",
       "      <td>-2</td>\n",
       "      <td>2.75</td>\n",
       "      <td>3.0</td>\n",
       "      <td>Logos</td>\n",
       "    </tr>\n",
       "    <tr>\n",
       "      <th>127</th>\n",
       "      <td>2</td>\n",
       "      <td>3</td>\n",
       "      <td>3</td>\n",
       "      <td>-3</td>\n",
       "      <td>-3</td>\n",
       "      <td>1</td>\n",
       "      <td>1.50</td>\n",
       "      <td>3.0</td>\n",
       "      <td>Consequences</td>\n",
       "    </tr>\n",
       "    <tr>\n",
       "      <th>128</th>\n",
       "      <td>2</td>\n",
       "      <td>2</td>\n",
       "      <td>1</td>\n",
       "      <td>-2</td>\n",
       "      <td>-2</td>\n",
       "      <td>-1</td>\n",
       "      <td>1.50</td>\n",
       "      <td>3.0</td>\n",
       "      <td>Professional</td>\n",
       "    </tr>\n",
       "    <tr>\n",
       "      <th>129</th>\n",
       "      <td>1</td>\n",
       "      <td>2</td>\n",
       "      <td>-1</td>\n",
       "      <td>-1</td>\n",
       "      <td>0</td>\n",
       "      <td>-2</td>\n",
       "      <td>0.75</td>\n",
       "      <td>0.0</td>\n",
       "      <td>Logos</td>\n",
       "    </tr>\n",
       "    <tr>\n",
       "      <th>130</th>\n",
       "      <td>3</td>\n",
       "      <td>2</td>\n",
       "      <td>3</td>\n",
       "      <td>2</td>\n",
       "      <td>3</td>\n",
       "      <td>2</td>\n",
       "      <td>0.00</td>\n",
       "      <td>3.0</td>\n",
       "      <td>Logos</td>\n",
       "    </tr>\n",
       "  </tbody>\n",
       "</table>\n",
       "<p>131 rows × 9 columns</p>\n",
       "</div>"
      ],
      "text/plain": [
       "     Password Strength  Motivation After Design  Hard to Remember  \\\n",
       "0                    2                        1                -3   \n",
       "1                    3                       -3                 3   \n",
       "2                    2                        2                -2   \n",
       "3                    2                        3                 2   \n",
       "4                    3                        3                 2   \n",
       "..                 ...                      ...               ...   \n",
       "126                  3                        0                 3   \n",
       "127                  2                        3                 3   \n",
       "128                  2                        2                 1   \n",
       "129                  1                        2                -1   \n",
       "130                  3                        2                 3   \n",
       "\n",
       "     Guessed by Hacker  Guessed by FnF  Stronger than Usual  \\\n",
       "0                   -2              -3                   -1   \n",
       "1                   -3              -3                    0   \n",
       "2                   -1              -3                    2   \n",
       "3                   -3              -3                    2   \n",
       "4                   -3              -3                    3   \n",
       "..                 ...             ...                  ...   \n",
       "126                 -3              -3                   -2   \n",
       "127                 -3              -3                    1   \n",
       "128                 -2              -2                   -1   \n",
       "129                 -1               0                   -2   \n",
       "130                  2               3                    2   \n",
       "\n",
       "     Password Generation  Actual Strength        design  \n",
       "0                  -1.25             -3.0      Metaphor  \n",
       "1                   1.75              3.0      Personal  \n",
       "2                  -2.00             -1.5  Consequences  \n",
       "3                   1.50              3.0  Consequences  \n",
       "4                   1.75              0.0         Logos  \n",
       "..                   ...              ...           ...  \n",
       "126                 2.75              3.0         Logos  \n",
       "127                 1.50              3.0  Consequences  \n",
       "128                 1.50              3.0  Professional  \n",
       "129                 0.75              0.0         Logos  \n",
       "130                 0.00              3.0         Logos  \n",
       "\n",
       "[131 rows x 9 columns]"
      ]
     },
     "execution_count": 290,
     "metadata": {},
     "output_type": "execute_result"
    }
   ],
   "source": [
    "password"
   ]
  },
  {
   "cell_type": "code",
   "execution_count": 291,
   "metadata": {},
   "outputs": [
    {
     "data": {
      "text/plain": [
       "(4, 2, 1)"
      ]
     },
     "execution_count": 291,
     "metadata": {},
     "output_type": "execute_result"
    }
   ],
   "source": [
    "len(password_response_df['password2_recall1'].dropna()), len(password_response_df['password2_recall2'].dropna()), len(password_response_df['password2_recall3'].dropna())"
   ]
  },
  {
   "cell_type": "code",
   "execution_count": 292,
   "metadata": {},
   "outputs": [
    {
     "data": {
      "text/plain": [
       "<AxesSubplot: xlabel='Actual Strength', ylabel='Count'>"
      ]
     },
     "execution_count": 292,
     "metadata": {},
     "output_type": "execute_result"
    },
    {
     "data": {
      "image/png": "[encoded data removed]",
      "text/plain": [
       "<Figure size 640x480 with 1 Axes>"
      ]
     },
     "metadata": {},
     "output_type": "display_data"
    }
   ],
   "source": [
    "strength_count = password['Actual Strength'].apply(lambda x: list(pass_stmap.keys())[list(pass_stmap.values()).index(x)]).value_counts().rename_axis(\"Actual Strength\").reset_index(name=\"Count\")\n",
    "sns.barplot(data=strength_count, x='Actual Strength', y='Count', order=['Very Weak', 'Weak', 'Medium', 'Strong', 'Very Strong'])"
   ]
  },
  {
   "cell_type": "code",
   "execution_count": 306,
   "metadata": {},
   "outputs": [
    {
     "data": {
      "image/png": "[encoded data removed]",
      "text/plain": [
       "<Figure size 3500x500 with 5 Axes>"
      ]
     },
     "metadata": {},
     "output_type": "display_data"
    }
   ],
   "source": [
    "fig, axes = plt.subplots(1, 5,  figsize=(35, 5))\n",
    "temp = password[['Actual Strength', 'design']]\n",
    "\n",
    "def get_strength(x):\n",
    "    return list(pass_stmap.keys())[list(pass_stmap.values()).index(float(x))]\n",
    "\n",
    "\n",
    "for i, design in enumerate(did_map.values()):\n",
    "    df = temp[temp['design']==design]['Actual Strength']\n",
    "    strength_count = df.apply(lambda x: get_strength(x)).value_counts().rename_axis(\"Actual Strength\").reset_index(name=\"Count\")\n",
    "    sns.barplot(data=strength_count, x='Actual Strength', y='Count', order=['Very Weak', 'Weak', 'Medium', 'Strong', 'Very Strong'], ax= axes[i])\n",
    "    axes[i].set_title(design)"
   ]
  }
 ],
 "metadata": {
  "kernelspec": {
   "display_name": "Python 3.10.8 64-bit",
   "language": "python",
   "name": "python3"
  },
  "language_info": {
   "codemirror_mode": {
    "name": "ipython",
    "version": 3
   },
   "file_extension": ".py",
   "mimetype": "text/x-python",
   "name": "python",
   "nbconvert_exporter": "python",
   "pygments_lexer": "ipython3",
   "version": "3.10.8"
  },
  "orig_nbformat": 4,
  "vscode": {
   "interpreter": {
    "hash": "b0fa6594d8f4cbf19f97940f81e996739fb7646882a419484c72d19e05852a7e"
   }
  }
 },
 "nbformat": 4,
 "nbformat_minor": 2
}
