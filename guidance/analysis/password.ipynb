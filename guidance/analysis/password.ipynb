{
 "cells": [
  {
   "cell_type": "code",
   "execution_count": 148,
   "metadata": {},
   "outputs": [],
   "source": [
    "from zget_data import get_responses, get_qdetails, get_questions, get_design, get_hash, page_map, quest_map, attention, did_map, pass_stmap\n",
    "import matplotlib.pyplot as plt, pandas as pd, numpy as np, seaborn as sns\n",
    "from scipy.stats import shapiro, yeojohnson, kruskal\n",
    "from selenium import webdriver\n",
    "from selenium.webdriver.common.by import By\n",
    "from collections import defaultdict\n",
    "import scikit_posthocs as sp\n",
    "import json, os\n",
    "\n",
    "dpath = 'data/password/'\n",
    "pfile = os.path.join(dpath, 'pstrength.json')"
   ]
  },
  {
   "cell_type": "code",
   "execution_count": 149,
   "metadata": {},
   "outputs": [
    {
     "name": "stdout",
     "output_type": "stream",
     "text": [
      "Total: 120; \n",
      "Attentive: 104; Non Attentive: 16\n"
     ]
    }
   ],
   "source": [
    "password_response, time_response, survey_response, dids = get_responses()"
   ]
  },
  {
   "cell_type": "code",
   "execution_count": 150,
   "metadata": {},
   "outputs": [],
   "source": [
    "password_response_df = pd.DataFrame(password_response)\n",
    "passwords = password_response_df['password2'].to_list()\n",
    "\n",
    "pass_strength = {}\n",
    "if os.path.exists(pfile):\n",
    "    with open(pfile, \"r\") as fp:\n",
    "        pass_strength.update(json.load(fp))\n",
    "else:\n",
    "    driver = webdriver.Chrome()\n",
    "    driver.get(\"https://passwordmonster.com\")\n",
    "\n",
    "    for pss in passwords:\n",
    "        element = driver.find_element(By.ID, 'lgd_out_pg_pass')\n",
    "        element.send_keys(pss)\n",
    "        element.clear()\n",
    "        complexity = driver.find_element(By.ID, 'complexity-span')\n",
    "        pass_strength[pss] = complexity.get_attribute(\"innerHTML\")\n",
    "\n",
    "    with open(pfile, \"w\") as fp:\n",
    "        json.dump(pass_strength, fp)"
   ]
  },
  {
   "cell_type": "code",
   "execution_count": 151,
   "metadata": {},
   "outputs": [
    {
     "data": {
      "text/plain": [
       "password2             0\n",
       "password2_recall1    92\n",
       "password2_recall2    97\n",
       "password2_recall3    98\n",
       "Actual Strength       0\n",
       "Password Hash         0\n",
       "dtype: int64"
      ]
     },
     "metadata": {},
     "output_type": "display_data"
    },
    {
     "data": {
      "text/html": [
       "<div>\n",
       "<style scoped>\n",
       "    .dataframe tbody tr th:only-of-type {\n",
       "        vertical-align: middle;\n",
       "    }\n",
       "\n",
       "    .dataframe tbody tr th {\n",
       "        vertical-align: top;\n",
       "    }\n",
       "\n",
       "    .dataframe thead th {\n",
       "        text-align: right;\n",
       "    }\n",
       "</style>\n",
       "<table border=\"1\" class=\"dataframe\">\n",
       "  <thead>\n",
       "    <tr style=\"text-align: right;\">\n",
       "      <th></th>\n",
       "      <th>password2</th>\n",
       "      <th>password2_recall1</th>\n",
       "      <th>password2_recall2</th>\n",
       "      <th>password2_recall3</th>\n",
       "      <th>Actual Strength</th>\n",
       "      <th>Password Hash</th>\n",
       "    </tr>\n",
       "  </thead>\n",
       "  <tbody>\n",
       "    <tr>\n",
       "      <th>0</th>\n",
       "      <td>6IctttoCM^</td>\n",
       "      <td>NaN</td>\n",
       "      <td>NaN</td>\n",
       "      <td>NaN</td>\n",
       "      <td>3.0</td>\n",
       "      <td>2f8421ee2ea5939a59e4f860740e1bac</td>\n",
       "    </tr>\n",
       "    <tr>\n",
       "      <th>1</th>\n",
       "      <td>1trdiayw$&amp;</td>\n",
       "      <td>1trdiayw&amp;$</td>\n",
       "      <td>1trdiayw&amp;$</td>\n",
       "      <td>NaN</td>\n",
       "      <td>3.0</td>\n",
       "      <td>23ab68106c2a7d8ca67a96fb70701d83</td>\n",
       "    </tr>\n",
       "  </tbody>\n",
       "</table>\n",
       "</div>"
      ],
      "text/plain": [
       "    password2 password2_recall1 password2_recall2 password2_recall3  \\\n",
       "0  6IctttoCM^               NaN               NaN               NaN   \n",
       "1  1trdiayw$&        1trdiayw&$        1trdiayw&$               NaN   \n",
       "\n",
       "   Actual Strength                     Password Hash  \n",
       "0              3.0  2f8421ee2ea5939a59e4f860740e1bac  \n",
       "1              3.0  23ab68106c2a7d8ca67a96fb70701d83  "
      ]
     },
     "metadata": {},
     "output_type": "display_data"
    }
   ],
   "source": [
    "password_response_df['Actual Strength'] = password_response_df['password2'].apply(lambda x: pass_stmap.get(pass_strength.get(x)))\n",
    "password_response_df['Password Hash'] = password_response_df['password2'].apply(lambda x: get_hash(x))\n",
    "display(password_response_df.isna().sum())\n",
    "display(password_response_df.head(2))"
   ]
  },
  {
   "cell_type": "code",
   "execution_count": 152,
   "metadata": {},
   "outputs": [],
   "source": [
    "hashfile = password_response_df['Password Hash']\n",
    "# hashfile.to_csv(os.path.join(dpath, 'hashfile.csv'), index=False)"
   ]
  },
  {
   "cell_type": "code",
   "execution_count": 153,
   "metadata": {},
   "outputs": [],
   "source": [
    "survey_response_df = pd.DataFrame(survey_response)\n",
    "\n",
    "page_id = '3'\n",
    "normqsid = ['1-1', '1-4']\n",
    "fpass = pd.DataFrame(survey_response_df[page_id].to_dict()).astype(int)\n",
    "normfpass = 8 - fpass.loc[normqsid]\n",
    "fpass.update(normfpass)\n",
    "\n",
    "new_index = {}\n",
    "for qsid in fpass.index:\n",
    "    likert_scale = 'low' if qsid in normqsid else 'high'\n",
    "    new_index[qsid] = json.loads(get_qdetails(page_id, qsid).replace(\"'\", '\"').split('\\n')[1]).get('title')\n",
    "fpass.rename(columns=new_index, inplace=True)\n",
    "fpass = fpass.rename(new_index)\n",
    "password_generation = pd.DataFrame(fpass.T.mean(axis=1), columns=['Password Generation'])\n",
    "pg_prenorm = password_generation.join(pd.DataFrame([get_design(str(did)) for did in dids], columns=['design']))\n",
    "\n",
    "# normalize scale 1 to 8 to scale -3 to 3\n",
    "normspassb = password_generation - 4\n",
    "password_generation.update(normspassb)"
   ]
  },
  {
   "cell_type": "code",
   "execution_count": 154,
   "metadata": {},
   "outputs": [
    {
     "data": {
      "text/html": [
       "<div>\n",
       "<style scoped>\n",
       "    .dataframe tbody tr th:only-of-type {\n",
       "        vertical-align: middle;\n",
       "    }\n",
       "\n",
       "    .dataframe tbody tr th {\n",
       "        vertical-align: top;\n",
       "    }\n",
       "\n",
       "    .dataframe thead th {\n",
       "        text-align: right;\n",
       "    }\n",
       "</style>\n",
       "<table border=\"1\" class=\"dataframe\">\n",
       "  <thead>\n",
       "    <tr style=\"text-align: right;\">\n",
       "      <th></th>\n",
       "      <th>Password Strength</th>\n",
       "      <th>Motivation After Design</th>\n",
       "      <th>Hard to Remember</th>\n",
       "      <th>Guessed by Hacker</th>\n",
       "      <th>Guessed by FnF</th>\n",
       "      <th>Stronger than Usual</th>\n",
       "      <th>Helpful</th>\n",
       "      <th>Easy to think memory</th>\n",
       "      <th>Difficult for num&amp;char</th>\n",
       "    </tr>\n",
       "  </thead>\n",
       "  <tbody>\n",
       "    <tr>\n",
       "      <th>0</th>\n",
       "      <td>2</td>\n",
       "      <td>2</td>\n",
       "      <td>2</td>\n",
       "      <td>2</td>\n",
       "      <td>2</td>\n",
       "      <td>2</td>\n",
       "      <td>2</td>\n",
       "      <td>0</td>\n",
       "      <td>2</td>\n",
       "    </tr>\n",
       "    <tr>\n",
       "      <th>1</th>\n",
       "      <td>3</td>\n",
       "      <td>3</td>\n",
       "      <td>1</td>\n",
       "      <td>2</td>\n",
       "      <td>3</td>\n",
       "      <td>3</td>\n",
       "      <td>3</td>\n",
       "      <td>3</td>\n",
       "      <td>3</td>\n",
       "    </tr>\n",
       "    <tr>\n",
       "      <th>2</th>\n",
       "      <td>2</td>\n",
       "      <td>2</td>\n",
       "      <td>3</td>\n",
       "      <td>3</td>\n",
       "      <td>3</td>\n",
       "      <td>1</td>\n",
       "      <td>1</td>\n",
       "      <td>2</td>\n",
       "      <td>3</td>\n",
       "    </tr>\n",
       "    <tr>\n",
       "      <th>3</th>\n",
       "      <td>2</td>\n",
       "      <td>2</td>\n",
       "      <td>0</td>\n",
       "      <td>2</td>\n",
       "      <td>2</td>\n",
       "      <td>1</td>\n",
       "      <td>2</td>\n",
       "      <td>2</td>\n",
       "      <td>2</td>\n",
       "    </tr>\n",
       "    <tr>\n",
       "      <th>4</th>\n",
       "      <td>1</td>\n",
       "      <td>0</td>\n",
       "      <td>3</td>\n",
       "      <td>3</td>\n",
       "      <td>3</td>\n",
       "      <td>0</td>\n",
       "      <td>-2</td>\n",
       "      <td>1</td>\n",
       "      <td>1</td>\n",
       "    </tr>\n",
       "    <tr>\n",
       "      <th>...</th>\n",
       "      <td>...</td>\n",
       "      <td>...</td>\n",
       "      <td>...</td>\n",
       "      <td>...</td>\n",
       "      <td>...</td>\n",
       "      <td>...</td>\n",
       "      <td>...</td>\n",
       "      <td>...</td>\n",
       "      <td>...</td>\n",
       "    </tr>\n",
       "    <tr>\n",
       "      <th>99</th>\n",
       "      <td>2</td>\n",
       "      <td>2</td>\n",
       "      <td>-3</td>\n",
       "      <td>-3</td>\n",
       "      <td>-2</td>\n",
       "      <td>2</td>\n",
       "      <td>2</td>\n",
       "      <td>2</td>\n",
       "      <td>-2</td>\n",
       "    </tr>\n",
       "    <tr>\n",
       "      <th>100</th>\n",
       "      <td>0</td>\n",
       "      <td>1</td>\n",
       "      <td>0</td>\n",
       "      <td>2</td>\n",
       "      <td>3</td>\n",
       "      <td>0</td>\n",
       "      <td>1</td>\n",
       "      <td>1</td>\n",
       "      <td>1</td>\n",
       "    </tr>\n",
       "    <tr>\n",
       "      <th>101</th>\n",
       "      <td>3</td>\n",
       "      <td>2</td>\n",
       "      <td>-1</td>\n",
       "      <td>3</td>\n",
       "      <td>3</td>\n",
       "      <td>3</td>\n",
       "      <td>2</td>\n",
       "      <td>1</td>\n",
       "      <td>2</td>\n",
       "    </tr>\n",
       "    <tr>\n",
       "      <th>102</th>\n",
       "      <td>3</td>\n",
       "      <td>2</td>\n",
       "      <td>-1</td>\n",
       "      <td>2</td>\n",
       "      <td>2</td>\n",
       "      <td>1</td>\n",
       "      <td>2</td>\n",
       "      <td>3</td>\n",
       "      <td>-2</td>\n",
       "    </tr>\n",
       "    <tr>\n",
       "      <th>103</th>\n",
       "      <td>1</td>\n",
       "      <td>2</td>\n",
       "      <td>-3</td>\n",
       "      <td>3</td>\n",
       "      <td>3</td>\n",
       "      <td>-1</td>\n",
       "      <td>0</td>\n",
       "      <td>-2</td>\n",
       "      <td>-3</td>\n",
       "    </tr>\n",
       "  </tbody>\n",
       "</table>\n",
       "<p>104 rows × 9 columns</p>\n",
       "</div>"
      ],
      "text/plain": [
       "     Password Strength  Motivation After Design  Hard to Remember  \\\n",
       "0                    2                        2                 2   \n",
       "1                    3                        3                 1   \n",
       "2                    2                        2                 3   \n",
       "3                    2                        2                 0   \n",
       "4                    1                        0                 3   \n",
       "..                 ...                      ...               ...   \n",
       "99                   2                        2                -3   \n",
       "100                  0                        1                 0   \n",
       "101                  3                        2                -1   \n",
       "102                  3                        2                -1   \n",
       "103                  1                        2                -3   \n",
       "\n",
       "     Guessed by Hacker  Guessed by FnF  Stronger than Usual  Helpful  \\\n",
       "0                    2               2                    2        2   \n",
       "1                    2               3                    3        3   \n",
       "2                    3               3                    1        1   \n",
       "3                    2               2                    1        2   \n",
       "4                    3               3                    0       -2   \n",
       "..                 ...             ...                  ...      ...   \n",
       "99                  -3              -2                    2        2   \n",
       "100                  2               3                    0        1   \n",
       "101                  3               3                    3        2   \n",
       "102                  2               2                    1        2   \n",
       "103                  3               3                   -1        0   \n",
       "\n",
       "     Easy to think memory  Difficult for num&char  \n",
       "0                       0                       2  \n",
       "1                       3                       3  \n",
       "2                       2                       3  \n",
       "3                       2                       2  \n",
       "4                       1                       1  \n",
       "..                    ...                     ...  \n",
       "99                      2                      -2  \n",
       "100                     1                       1  \n",
       "101                     1                       2  \n",
       "102                     3                      -2  \n",
       "103                    -2                      -3  \n",
       "\n",
       "[104 rows x 9 columns]"
      ]
     },
     "execution_count": 154,
     "metadata": {},
     "output_type": "execute_result"
    }
   ],
   "source": [
    "page_id = '12'\n",
    "normqsid = ['3-1', '3-2', '3-3', '7-1']\n",
    "\n",
    "spass = pd.DataFrame(survey_response_df[page_id].to_dict())\n",
    "spass.drop(attention.get('12'), inplace=True)\n",
    "spass = spass.T\n",
    "spass\n",
    "spass = spass.drop(['8-1'], axis =1).astype(int)\n",
    "\n",
    "\n",
    "normspass = 8 - spass[normqsid]\n",
    "spass.update(normspass)\n",
    "spass\n",
    "\n",
    "# normalize scale 1 to 8 to scale -3 to 3\n",
    "normspass = spass - 4\n",
    "spass.update(normspass)\n",
    "\n",
    "new_columns = {}\n",
    "for qsid in spass.columns:\n",
    "    # print(get_qdetails(page_id, qsid))\n",
    "    new_columns[qsid] = json.loads(get_qdetails(page_id, qsid).replace(\"'\", '\"').split('\\n')[1]).get('keyword')\n",
    "spass = spass.rename(columns = new_columns)\n",
    "spass\n",
    "# spass = spass.T"
   ]
  },
  {
   "cell_type": "code",
   "execution_count": 155,
   "metadata": {},
   "outputs": [
    {
     "data": {
      "text/html": [
       "<div>\n",
       "<style scoped>\n",
       "    .dataframe tbody tr th:only-of-type {\n",
       "        vertical-align: middle;\n",
       "    }\n",
       "\n",
       "    .dataframe tbody tr th {\n",
       "        vertical-align: top;\n",
       "    }\n",
       "\n",
       "    .dataframe thead th {\n",
       "        text-align: right;\n",
       "    }\n",
       "</style>\n",
       "<table border=\"1\" class=\"dataframe\">\n",
       "  <thead>\n",
       "    <tr style=\"text-align: right;\">\n",
       "      <th></th>\n",
       "      <th>Password Strength</th>\n",
       "      <th>Motivation After Design</th>\n",
       "      <th>Hard to Remember</th>\n",
       "      <th>Guessed by Hacker</th>\n",
       "      <th>Guessed by FnF</th>\n",
       "      <th>Stronger than Usual</th>\n",
       "      <th>Helpful</th>\n",
       "      <th>Easy to think memory</th>\n",
       "      <th>Difficult for num&amp;char</th>\n",
       "      <th>Password Generation</th>\n",
       "      <th>Actual Strength</th>\n",
       "      <th>design</th>\n",
       "    </tr>\n",
       "  </thead>\n",
       "  <tbody>\n",
       "    <tr>\n",
       "      <th>0</th>\n",
       "      <td>2</td>\n",
       "      <td>2</td>\n",
       "      <td>2</td>\n",
       "      <td>2</td>\n",
       "      <td>2</td>\n",
       "      <td>2</td>\n",
       "      <td>2</td>\n",
       "      <td>0</td>\n",
       "      <td>2</td>\n",
       "      <td>0.00</td>\n",
       "      <td>3.0</td>\n",
       "      <td>infographics</td>\n",
       "    </tr>\n",
       "    <tr>\n",
       "      <th>1</th>\n",
       "      <td>3</td>\n",
       "      <td>3</td>\n",
       "      <td>1</td>\n",
       "      <td>2</td>\n",
       "      <td>3</td>\n",
       "      <td>3</td>\n",
       "      <td>3</td>\n",
       "      <td>3</td>\n",
       "      <td>3</td>\n",
       "      <td>1.50</td>\n",
       "      <td>3.0</td>\n",
       "      <td>conversation</td>\n",
       "    </tr>\n",
       "    <tr>\n",
       "      <th>2</th>\n",
       "      <td>2</td>\n",
       "      <td>2</td>\n",
       "      <td>3</td>\n",
       "      <td>3</td>\n",
       "      <td>3</td>\n",
       "      <td>1</td>\n",
       "      <td>1</td>\n",
       "      <td>2</td>\n",
       "      <td>3</td>\n",
       "      <td>2.25</td>\n",
       "      <td>0.0</td>\n",
       "      <td>reflection</td>\n",
       "    </tr>\n",
       "    <tr>\n",
       "      <th>3</th>\n",
       "      <td>2</td>\n",
       "      <td>2</td>\n",
       "      <td>0</td>\n",
       "      <td>2</td>\n",
       "      <td>2</td>\n",
       "      <td>1</td>\n",
       "      <td>2</td>\n",
       "      <td>2</td>\n",
       "      <td>2</td>\n",
       "      <td>0.50</td>\n",
       "      <td>1.5</td>\n",
       "      <td>reflection</td>\n",
       "    </tr>\n",
       "    <tr>\n",
       "      <th>4</th>\n",
       "      <td>1</td>\n",
       "      <td>0</td>\n",
       "      <td>3</td>\n",
       "      <td>3</td>\n",
       "      <td>3</td>\n",
       "      <td>0</td>\n",
       "      <td>-2</td>\n",
       "      <td>1</td>\n",
       "      <td>1</td>\n",
       "      <td>0.00</td>\n",
       "      <td>-3.0</td>\n",
       "      <td>conversation</td>\n",
       "    </tr>\n",
       "  </tbody>\n",
       "</table>\n",
       "</div>"
      ],
      "text/plain": [
       "   Password Strength  Motivation After Design  Hard to Remember  \\\n",
       "0                  2                        2                 2   \n",
       "1                  3                        3                 1   \n",
       "2                  2                        2                 3   \n",
       "3                  2                        2                 0   \n",
       "4                  1                        0                 3   \n",
       "\n",
       "   Guessed by Hacker  Guessed by FnF  Stronger than Usual  Helpful  \\\n",
       "0                  2               2                    2        2   \n",
       "1                  2               3                    3        3   \n",
       "2                  3               3                    1        1   \n",
       "3                  2               2                    1        2   \n",
       "4                  3               3                    0       -2   \n",
       "\n",
       "   Easy to think memory  Difficult for num&char  Password Generation  \\\n",
       "0                     0                       2                 0.00   \n",
       "1                     3                       3                 1.50   \n",
       "2                     2                       3                 2.25   \n",
       "3                     2                       2                 0.50   \n",
       "4                     1                       1                 0.00   \n",
       "\n",
       "   Actual Strength        design  \n",
       "0              3.0  infographics  \n",
       "1              3.0  conversation  \n",
       "2              0.0    reflection  \n",
       "3              1.5    reflection  \n",
       "4             -3.0  conversation  "
      ]
     },
     "metadata": {},
     "output_type": "display_data"
    },
    {
     "data": {
      "text/plain": [
       "Password Strength          2.009615\n",
       "Motivation After Design    1.971154\n",
       "Hard to Remember          -0.038462\n",
       "Guessed by Hacker          1.365385\n",
       "Guessed by FnF             1.461538\n",
       "Stronger than Usual        1.403846\n",
       "Helpful                    1.798077\n",
       "Easy to think memory       1.509615\n",
       "Difficult for num&char     0.153846\n",
       "Password Generation        0.430288\n",
       "Actual Strength            0.634615\n",
       "dtype: float64"
      ]
     },
     "execution_count": 155,
     "metadata": {},
     "output_type": "execute_result"
    }
   ],
   "source": [
    "password = spass.join(password_generation).join(password_response_df['Actual Strength']).join(pd.DataFrame([get_design(str(did)) for did in dids], columns=['design']))\n",
    "password.to_csv(\"data/csvs/password.csv\", index=False)\n",
    "display(password.head())\n",
    "password.mean()"
   ]
  },
  {
   "cell_type": "code",
   "execution_count": 156,
   "metadata": {},
   "outputs": [
    {
     "data": {
      "image/png": "[encoded data removed]",
      "text/plain": [
       "<Figure size 432x288 with 1 Axes>"
      ]
     },
     "metadata": {
      "needs_background": "light"
     },
     "output_type": "display_data"
    }
   ],
   "source": [
    "_ = pg_prenorm.groupby('design').mean().div(7).mul(5).plot.bar()"
   ]
  },
  {
   "cell_type": "code",
   "execution_count": 157,
   "metadata": {},
   "outputs": [
    {
     "data": {
      "text/html": [
       "<div>\n",
       "<style scoped>\n",
       "    .dataframe tbody tr th:only-of-type {\n",
       "        vertical-align: middle;\n",
       "    }\n",
       "\n",
       "    .dataframe tbody tr th {\n",
       "        vertical-align: top;\n",
       "    }\n",
       "\n",
       "    .dataframe thead th {\n",
       "        text-align: right;\n",
       "    }\n",
       "</style>\n",
       "<table border=\"1\" class=\"dataframe\">\n",
       "  <thead>\n",
       "    <tr style=\"text-align: right;\">\n",
       "      <th></th>\n",
       "      <th>Password Strength</th>\n",
       "      <th>Motivation After Design</th>\n",
       "      <th>Hard to Remember</th>\n",
       "      <th>Guessed by Hacker</th>\n",
       "      <th>Guessed by FnF</th>\n",
       "      <th>Stronger than Usual</th>\n",
       "      <th>Helpful</th>\n",
       "      <th>Easy to think memory</th>\n",
       "      <th>Difficult for num&amp;char</th>\n",
       "      <th>Password Generation</th>\n",
       "      <th>Actual Strength</th>\n",
       "      <th>design</th>\n",
       "    </tr>\n",
       "  </thead>\n",
       "  <tbody>\n",
       "    <tr>\n",
       "      <th>0</th>\n",
       "      <td>2</td>\n",
       "      <td>2</td>\n",
       "      <td>2</td>\n",
       "      <td>2</td>\n",
       "      <td>2</td>\n",
       "      <td>2</td>\n",
       "      <td>2</td>\n",
       "      <td>0</td>\n",
       "      <td>2</td>\n",
       "      <td>0.00</td>\n",
       "      <td>3.0</td>\n",
       "      <td>infographics</td>\n",
       "    </tr>\n",
       "    <tr>\n",
       "      <th>1</th>\n",
       "      <td>3</td>\n",
       "      <td>3</td>\n",
       "      <td>1</td>\n",
       "      <td>2</td>\n",
       "      <td>3</td>\n",
       "      <td>3</td>\n",
       "      <td>3</td>\n",
       "      <td>3</td>\n",
       "      <td>3</td>\n",
       "      <td>1.50</td>\n",
       "      <td>3.0</td>\n",
       "      <td>conversation</td>\n",
       "    </tr>\n",
       "    <tr>\n",
       "      <th>2</th>\n",
       "      <td>2</td>\n",
       "      <td>2</td>\n",
       "      <td>3</td>\n",
       "      <td>3</td>\n",
       "      <td>3</td>\n",
       "      <td>1</td>\n",
       "      <td>1</td>\n",
       "      <td>2</td>\n",
       "      <td>3</td>\n",
       "      <td>2.25</td>\n",
       "      <td>0.0</td>\n",
       "      <td>reflection</td>\n",
       "    </tr>\n",
       "    <tr>\n",
       "      <th>3</th>\n",
       "      <td>2</td>\n",
       "      <td>2</td>\n",
       "      <td>0</td>\n",
       "      <td>2</td>\n",
       "      <td>2</td>\n",
       "      <td>1</td>\n",
       "      <td>2</td>\n",
       "      <td>2</td>\n",
       "      <td>2</td>\n",
       "      <td>0.50</td>\n",
       "      <td>1.5</td>\n",
       "      <td>reflection</td>\n",
       "    </tr>\n",
       "    <tr>\n",
       "      <th>4</th>\n",
       "      <td>1</td>\n",
       "      <td>0</td>\n",
       "      <td>3</td>\n",
       "      <td>3</td>\n",
       "      <td>3</td>\n",
       "      <td>0</td>\n",
       "      <td>-2</td>\n",
       "      <td>1</td>\n",
       "      <td>1</td>\n",
       "      <td>0.00</td>\n",
       "      <td>-3.0</td>\n",
       "      <td>conversation</td>\n",
       "    </tr>\n",
       "  </tbody>\n",
       "</table>\n",
       "</div>"
      ],
      "text/plain": [
       "   Password Strength  Motivation After Design  Hard to Remember  \\\n",
       "0                  2                        2                 2   \n",
       "1                  3                        3                 1   \n",
       "2                  2                        2                 3   \n",
       "3                  2                        2                 0   \n",
       "4                  1                        0                 3   \n",
       "\n",
       "   Guessed by Hacker  Guessed by FnF  Stronger than Usual  Helpful  \\\n",
       "0                  2               2                    2        2   \n",
       "1                  2               3                    3        3   \n",
       "2                  3               3                    1        1   \n",
       "3                  2               2                    1        2   \n",
       "4                  3               3                    0       -2   \n",
       "\n",
       "   Easy to think memory  Difficult for num&char  Password Generation  \\\n",
       "0                     0                       2                 0.00   \n",
       "1                     3                       3                 1.50   \n",
       "2                     2                       3                 2.25   \n",
       "3                     2                       2                 0.50   \n",
       "4                     1                       1                 0.00   \n",
       "\n",
       "   Actual Strength        design  \n",
       "0              3.0  infographics  \n",
       "1              3.0  conversation  \n",
       "2              0.0    reflection  \n",
       "3              1.5    reflection  \n",
       "4             -3.0  conversation  "
      ]
     },
     "execution_count": 157,
     "metadata": {},
     "output_type": "execute_result"
    }
   ],
   "source": [
    "password.head()"
   ]
  },
  {
   "cell_type": "code",
   "execution_count": 158,
   "metadata": {},
   "outputs": [
    {
     "data": {
      "text/plain": [
       "(12, 7, 6)"
      ]
     },
     "execution_count": 158,
     "metadata": {},
     "output_type": "execute_result"
    }
   ],
   "source": [
    "len(password_response_df['password2_recall1'].dropna()), len(password_response_df['password2_recall2'].dropna()), len(password_response_df['password2_recall3'].dropna())"
   ]
  },
  {
   "cell_type": "code",
   "execution_count": 159,
   "metadata": {},
   "outputs": [
    {
     "data": {
      "image/png": "[encoded data removed]",
      "text/plain": [
       "<Figure size 432x288 with 1 Axes>"
      ]
     },
     "metadata": {
      "needs_background": "light"
     },
     "output_type": "display_data"
    }
   ],
   "source": [
    "strength_count = password['Actual Strength'].apply(lambda x: list(pass_stmap.keys())[list(pass_stmap.values()).index(x)]).value_counts().rename_axis(\"Actual Strength\").reset_index(name=\"Count\")\n",
    "_ = sns.barplot(data=strength_count, x='Actual Strength', y='Count', order=['Very Weak', 'Weak', 'Medium', 'Strong', 'Very Strong'])"
   ]
  },
  {
   "cell_type": "code",
   "execution_count": 160,
   "metadata": {},
   "outputs": [
    {
     "data": {
      "image/png": "[encoded data removed]",
      "text/plain": [
       "<Figure size 1800x360 with 4 Axes>"
      ]
     },
     "metadata": {
      "needs_background": "light"
     },
     "output_type": "display_data"
    }
   ],
   "source": [
    "fig, axes = plt.subplots(1, 4,  figsize=(25, 5))\n",
    "temp = password[['Actual Strength', 'design']]\n",
    "\n",
    "def get_strength(x):\n",
    "    return list(pass_stmap.keys())[list(pass_stmap.values()).index(float(x))]\n",
    "\n",
    "\n",
    "for i, design in enumerate(did_map.values()):\n",
    "    df = temp[temp['design']==design]['Actual Strength']\n",
    "    strength_count = df.apply(lambda x: get_strength(x)).value_counts().rename_axis(\"Actual Strength\").reset_index(name=\"Count\")\n",
    "    sns.barplot(data=strength_count, x='Actual Strength', y='Count', order=['Very Weak', 'Weak', 'Medium', 'Strong', 'Very Strong'], ax= axes[i])\n",
    "    axes[i].set_title(design)"
   ]
  },
  {
   "cell_type": "code",
   "execution_count": 161,
   "metadata": {},
   "outputs": [
    {
     "data": {
      "text/plain": [
       "design\n",
       "conversation    0.692308\n",
       "infographics    1.269231\n",
       "onlinechat      0.288462\n",
       "reflection      0.288462\n",
       "Name: Actual Strength, dtype: float64"
      ]
     },
     "execution_count": 161,
     "metadata": {},
     "output_type": "execute_result"
    }
   ],
   "source": [
    "temp.groupby('design')['Actual Strength'].mean()"
   ]
  },
  {
   "cell_type": "code",
   "execution_count": 162,
   "metadata": {},
   "outputs": [],
   "source": [
    "test = {}\n",
    "designs = []\n",
    "quests = temp.columns.to_list()\n",
    "quests.remove('design')\n",
    "for i, param in enumerate(quests):\n",
    "    test[param] = []\n",
    "    for design in did_map.values():\n",
    "        test[param].append(temp[temp['design']==design][param].to_list())\n",
    "        designs.append(design) if i<=0 else None\n",
    "# test"
   ]
  },
  {
   "cell_type": "code",
   "execution_count": 163,
   "metadata": {},
   "outputs": [
    {
     "name": "stdout",
     "output_type": "stream",
     "text": [
      "Actual Strength: KruskalResult(statistic=3.3933987446919125, pvalue=0.3348533888605506)\n"
     ]
    }
   ],
   "source": [
    "# Performing kruskal test\n",
    "for k, v in test.items():\n",
    "    print(f'{k}: {kruskal(*v)}')"
   ]
  },
  {
   "cell_type": "code",
   "execution_count": 164,
   "metadata": {},
   "outputs": [
    {
     "data": {
      "image/png": "[encoded data removed]",
      "text/plain": [
       "<Figure size 432x288 with 2 Axes>"
      ]
     },
     "metadata": {
      "needs_background": "light"
     },
     "output_type": "display_data"
    }
   ],
   "source": [
    "data = sp.posthoc_dunn(test[quests[0]])\n",
    "data.index = data.index.map(get_design)\n",
    "data.columns = data.columns.map(get_design)\n",
    "_ = sns.heatmap(data, annot=True, cmap=\"Greens_r\")"
   ]
  }
 ],
 "metadata": {
  "kernelspec": {
   "display_name": "base",
   "language": "python",
   "name": "python3"
  },
  "language_info": {
   "codemirror_mode": {
    "name": "ipython",
    "version": 3
   },
   "file_extension": ".py",
   "mimetype": "text/x-python",
   "name": "python",
   "nbconvert_exporter": "python",
   "pygments_lexer": "ipython3",
   "version": "3.8.8"
  },
  "orig_nbformat": 4,
  "vscode": {
   "interpreter": {
    "hash": "a7156950e440dfa2ad8ddabc276de79f590889e0e9da6c6622eef2b5a4df730d"
   }
  }
 },
 "nbformat": 4,
 "nbformat_minor": 2
}
