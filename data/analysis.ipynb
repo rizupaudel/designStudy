{
 "cells": [
  {
   "cell_type": "code",
   "execution_count": 21,
   "metadata": {},
   "outputs": [
    {
     "data": {
      "text/plain": [
       "defaultdict(dict,\n",
       "            {'7': {'1-19': '4',\n",
       "              '1-20': '4',\n",
       "              '1-21': '4',\n",
       "              '1-22': '4',\n",
       "              '1-23': '4',\n",
       "              '1-24': '4',\n",
       "              '1-25': '4',\n",
       "              '1-10': '2',\n",
       "              '1-11': '5',\n",
       "              '1-12': '3',\n",
       "              '1-13': '4',\n",
       "              '1-14': '4',\n",
       "              '1-15': '5',\n",
       "              '1-16': '4',\n",
       "              '1-17': '5',\n",
       "              '1-18': '4',\n",
       "              '1-1': '4',\n",
       "              '1-2': '5',\n",
       "              '1-3': '5',\n",
       "              '1-4': '5',\n",
       "              '1-5': '6',\n",
       "              '1-6': '5',\n",
       "              '1-7': '4',\n",
       "              '1-8': '5',\n",
       "              '1-9': '5'},\n",
       "             '8': {'1-1': '4',\n",
       "              '1-2': '3',\n",
       "              '1-3': '5',\n",
       "              '1-4': '6',\n",
       "              '1-5': '5',\n",
       "              '1-6': '6',\n",
       "              '2-1': 'i see some thing very bad',\n",
       "              '3-1': '1',\n",
       "              '4-1': '2',\n",
       "              '5-1': '2',\n",
       "              '6-1': ['Social Media', 'Email']},\n",
       "             '3': {'1-1': '6',\n",
       "              '2-1': '3',\n",
       "              '2-2': '4',\n",
       "              '2-3': '5',\n",
       "              '3-1': ['None of the above'],\n",
       "              '4-1': '4',\n",
       "              '4-2': '5',\n",
       "              '4-3': '6',\n",
       "              '4-4': '7'},\n",
       "             '4': {'1-1': '12',\n",
       "              '2-1': 'Man',\n",
       "              '3-1': '25-29 years old',\n",
       "              '4-1': 'Asian',\n",
       "              '5-1': 'Graduate degree (MS/Doctorate)',\n",
       "              '6-1': 'Computer Science/Engineering, and Information Technology (IT)',\n",
       "              '7-1': 'Non-profit organization'},\n",
       "             '11': {'1-1': '5',\n",
       "              '2-1': '5',\n",
       "              '2-2': '5',\n",
       "              '2-3': '5',\n",
       "              '3-1': ['My phone number or a part of it',\n",
       "               'My address or a part of it'],\n",
       "              '4-1': '2',\n",
       "              '4-2': '3',\n",
       "              '4-3': '4',\n",
       "              '4-4': '5'}})"
      ]
     },
     "execution_count": 21,
     "metadata": {},
     "output_type": "execute_result"
    }
   ],
   "source": [
    "import json\n",
    "from collections import defaultdict\n",
    "with open('response/3.json', 'r') as f:\n",
    "    data = f.read()\n",
    "\n",
    "response = json.loads(data)\n",
    "response.pop('page_id')\n",
    "\n",
    "pid_resp = defaultdict(dict)\n",
    "pass_resp = defaultdict(str)\n",
    "for k, v in response.items():\n",
    "    if 'response' in k:\n",
    "        temp = k.split(\"_\")\n",
    "        pid = temp[0].strip('p')\n",
    "        v = json.loads(v)\n",
    "        pid_resp[pid].update(v)\n",
    "    else:\n",
    "        pass_resp[k] = v\n",
    "\n",
    "pid_resp"
   ]
  },
  {
   "cell_type": "code",
   "execution_count": null,
   "metadata": {},
   "outputs": [],
   "source": []
  }
 ],
 "metadata": {
  "kernelspec": {
   "display_name": "Python 3.10.6 64-bit",
   "language": "python",
   "name": "python3"
  },
  "language_info": {
   "codemirror_mode": {
    "name": "ipython",
    "version": 3
   },
   "file_extension": ".py",
   "mimetype": "text/x-python",
   "name": "python",
   "nbconvert_exporter": "python",
   "pygments_lexer": "ipython3",
   "version": "3.10.6"
  },
  "orig_nbformat": 4,
  "vscode": {
   "interpreter": {
    "hash": "916dbcbb3f70747c44a77c7bcd40155683ae19c65e1c03b4aa3499c5328201f1"
   }
  }
 },
 "nbformat": 4,
 "nbformat_minor": 2
}
