{
 "cells": [
  {
   "cell_type": "code",
   "execution_count": 1,
   "metadata": {},
   "outputs": [],
   "source": [
    "exec(open(\"cleanup.py\").read())"
   ]
  },
  {
   "cell_type": "code",
   "execution_count": 2,
   "metadata": {},
   "outputs": [],
   "source": [
    "import json\n",
    "from collections import defaultdict\n",
    "\n",
    "def get_response(fname):\n",
    "    with open(fname, 'r') as f:\n",
    "        data = f.read()\n",
    "\n",
    "    response = json.loads(data)\n",
    "\n",
    "    surv_resp = defaultdict(dict)\n",
    "    pass_resp = defaultdict(str)\n",
    "    time_resp = defaultdict(str)\n",
    "\n",
    "    for k, v in response.items():\n",
    "        if 'response' in k:\n",
    "            temp = k.split(\"_\")\n",
    "            pid = temp[0].strip('p')\n",
    "            v = json.loads(v)\n",
    "            surv_resp[pid].update(v)\n",
    "        elif 'time' in k:\n",
    "            temp = k.split(\"_\")\n",
    "            pid = temp[0]\n",
    "            time_resp[pid] = float(v)\n",
    "        elif 'password' in k:\n",
    "            pass_resp[k] = v\n",
    "\n",
    "    return (pass_resp, time_resp, surv_resp)"
   ]
  },
  {
   "cell_type": "code",
   "execution_count": 3,
   "metadata": {},
   "outputs": [],
   "source": [
    "page_map = {\n",
    "    '0': 'startstudy',\n",
    "    '1': 'fpass',\n",
    "    '2': 'fcog',\n",
    "    '3': 'fpasssurvey',\n",
    "    '4': 'fpassrecall',\n",
    "    '5': 'pagegif',\n",
    "    '6': 'desinint',\n",
    "    '7': 'quest',\n",
    "    '8': 'csquest',\n",
    "    '9': 'motivation',\n",
    "    '10': 'spass',\n",
    "    '11': 'scog',\n",
    "    '12': 'spasssurvey',\n",
    "    '13': 'spassrecall',\n",
    "    '14': 'demo',\n",
    "    '15': 'thanks',\n",
    "}"
   ]
  },
  {
   "cell_type": "code",
   "execution_count": 4,
   "metadata": {},
   "outputs": [],
   "source": [
    "import os\n",
    "fpath = './responses'\n",
    "password_response = []\n",
    "time_response = []\n",
    "survey_response = []\n",
    "for i, fname in enumerate(os.listdir(fpath)):\n",
    "    pss, tim, sur = get_response(os.path.join(fpath, fname))\n",
    "    password_response.append(pss)\n",
    "    time_response.append(tim)\n",
    "    survey_response.append(sur)"
   ]
  },
  {
   "cell_type": "code",
   "execution_count": 5,
   "metadata": {},
   "outputs": [
    {
     "data": {
      "text/html": [
       "<div>\n",
       "<style scoped>\n",
       "    .dataframe tbody tr th:only-of-type {\n",
       "        vertical-align: middle;\n",
       "    }\n",
       "\n",
       "    .dataframe tbody tr th {\n",
       "        vertical-align: top;\n",
       "    }\n",
       "\n",
       "    .dataframe thead th {\n",
       "        text-align: right;\n",
       "    }\n",
       "</style>\n",
       "<table border=\"1\" class=\"dataframe\">\n",
       "  <thead>\n",
       "    <tr style=\"text-align: right;\">\n",
       "      <th></th>\n",
       "      <th>password2</th>\n",
       "      <th>password1</th>\n",
       "      <th>password1_recall1</th>\n",
       "      <th>password2_recall1</th>\n",
       "    </tr>\n",
       "  </thead>\n",
       "  <tbody>\n",
       "    <tr>\n",
       "      <th>0</th>\n",
       "      <td>ee</td>\n",
       "      <td>dd</td>\n",
       "      <td>ss</td>\n",
       "      <td>NaN</td>\n",
       "    </tr>\n",
       "    <tr>\n",
       "      <th>1</th>\n",
       "      <td>as</td>\n",
       "      <td>as</td>\n",
       "      <td>NaN</td>\n",
       "      <td>asd</td>\n",
       "    </tr>\n",
       "  </tbody>\n",
       "</table>\n",
       "</div>"
      ],
      "text/plain": [
       "  password2 password1 password1_recall1 password2_recall1\n",
       "0        ee        dd                ss               NaN\n",
       "1        as        as               NaN               asd"
      ]
     },
     "execution_count": 5,
     "metadata": {},
     "output_type": "execute_result"
    }
   ],
   "source": [
    "import pandas as pd\n",
    "pd.DataFrame(password_response)"
   ]
  },
  {
   "cell_type": "code",
   "execution_count": 6,
   "metadata": {},
   "outputs": [
    {
     "data": {
      "text/html": [
       "<div>\n",
       "<style scoped>\n",
       "    .dataframe tbody tr th:only-of-type {\n",
       "        vertical-align: middle;\n",
       "    }\n",
       "\n",
       "    .dataframe tbody tr th {\n",
       "        vertical-align: top;\n",
       "    }\n",
       "\n",
       "    .dataframe thead th {\n",
       "        text-align: right;\n",
       "    }\n",
       "</style>\n",
       "<table border=\"1\" class=\"dataframe\">\n",
       "  <thead>\n",
       "    <tr style=\"text-align: right;\">\n",
       "      <th></th>\n",
       "      <th>2</th>\n",
       "      <th>12</th>\n",
       "      <th>5</th>\n",
       "      <th>10</th>\n",
       "      <th>8</th>\n",
       "      <th>0</th>\n",
       "      <th>7</th>\n",
       "      <th>6</th>\n",
       "      <th>11</th>\n",
       "      <th>9</th>\n",
       "      <th>4</th>\n",
       "      <th>1</th>\n",
       "      <th>3</th>\n",
       "    </tr>\n",
       "  </thead>\n",
       "  <tbody>\n",
       "    <tr>\n",
       "      <th>0</th>\n",
       "      <td>3.833</td>\n",
       "      <td>4.681</td>\n",
       "      <td>2.035</td>\n",
       "      <td>2.082</td>\n",
       "      <td>235.582</td>\n",
       "      <td>2.333</td>\n",
       "      <td>27.935</td>\n",
       "      <td>8.187</td>\n",
       "      <td>19.620</td>\n",
       "      <td>24.915</td>\n",
       "      <td>6.517</td>\n",
       "      <td>3.476</td>\n",
       "      <td>10.734</td>\n",
       "    </tr>\n",
       "    <tr>\n",
       "      <th>1</th>\n",
       "      <td>3.492</td>\n",
       "      <td>9.900</td>\n",
       "      <td>7.382</td>\n",
       "      <td>3.895</td>\n",
       "      <td>18.600</td>\n",
       "      <td>15.179</td>\n",
       "      <td>72.818</td>\n",
       "      <td>9.196</td>\n",
       "      <td>348.595</td>\n",
       "      <td>25.557</td>\n",
       "      <td>4.400</td>\n",
       "      <td>12.138</td>\n",
       "      <td>18.796</td>\n",
       "    </tr>\n",
       "  </tbody>\n",
       "</table>\n",
       "</div>"
      ],
      "text/plain": [
       "       2     12      5     10        8       0       7      6       11  \\\n",
       "0  3.833  4.681  2.035  2.082  235.582   2.333  27.935  8.187   19.620   \n",
       "1  3.492  9.900  7.382  3.895   18.600  15.179  72.818  9.196  348.595   \n",
       "\n",
       "        9      4       1       3  \n",
       "0  24.915  6.517   3.476  10.734  \n",
       "1  25.557  4.400  12.138  18.796  "
      ]
     },
     "execution_count": 6,
     "metadata": {},
     "output_type": "execute_result"
    }
   ],
   "source": [
    "page_time = pd.DataFrame(time_response)\n",
    "page_time"
   ]
  },
  {
   "cell_type": "code",
   "execution_count": 7,
   "metadata": {},
   "outputs": [
    {
     "data": {
      "text/html": [
       "<div>\n",
       "<style scoped>\n",
       "    .dataframe tbody tr th:only-of-type {\n",
       "        vertical-align: middle;\n",
       "    }\n",
       "\n",
       "    .dataframe tbody tr th {\n",
       "        vertical-align: top;\n",
       "    }\n",
       "\n",
       "    .dataframe thead th {\n",
       "        text-align: right;\n",
       "    }\n",
       "</style>\n",
       "<table border=\"1\" class=\"dataframe\">\n",
       "  <thead>\n",
       "    <tr style=\"text-align: right;\">\n",
       "      <th></th>\n",
       "      <th>page</th>\n",
       "      <th>time</th>\n",
       "    </tr>\n",
       "  </thead>\n",
       "  <tbody>\n",
       "    <tr>\n",
       "      <th>0</th>\n",
       "      <td>scog</td>\n",
       "      <td>184.1075</td>\n",
       "    </tr>\n",
       "    <tr>\n",
       "      <th>1</th>\n",
       "      <td>csquest</td>\n",
       "      <td>127.0910</td>\n",
       "    </tr>\n",
       "    <tr>\n",
       "      <th>2</th>\n",
       "      <td>quest</td>\n",
       "      <td>50.3765</td>\n",
       "    </tr>\n",
       "    <tr>\n",
       "      <th>3</th>\n",
       "      <td>motivation</td>\n",
       "      <td>25.2360</td>\n",
       "    </tr>\n",
       "    <tr>\n",
       "      <th>4</th>\n",
       "      <td>fpasssurvey</td>\n",
       "      <td>14.7650</td>\n",
       "    </tr>\n",
       "  </tbody>\n",
       "</table>\n",
       "</div>"
      ],
      "text/plain": [
       "          page      time\n",
       "0         scog  184.1075\n",
       "1      csquest  127.0910\n",
       "2        quest   50.3765\n",
       "3   motivation   25.2360\n",
       "4  fpasssurvey   14.7650"
      ]
     },
     "execution_count": 7,
     "metadata": {},
     "output_type": "execute_result"
    }
   ],
   "source": [
    "# top 5 pages with higher time\n",
    "top5 = pd.DataFrame(columns=['page', 'time'])\n",
    "for i, data in page_time.mean().sort_values(ascending=False).head(5).items():\n",
    "    top5 = top5.append(pd.DataFrame([[page_map.get(i), data]], columns=top5.columns), ignore_index=True)\n",
    "\n",
    "top5"
   ]
  },
  {
   "cell_type": "code",
   "execution_count": 8,
   "metadata": {},
   "outputs": [
    {
     "data": {
      "text/html": [
       "<div>\n",
       "<style scoped>\n",
       "    .dataframe tbody tr th:only-of-type {\n",
       "        vertical-align: middle;\n",
       "    }\n",
       "\n",
       "    .dataframe tbody tr th {\n",
       "        vertical-align: top;\n",
       "    }\n",
       "\n",
       "    .dataframe thead th {\n",
       "        text-align: right;\n",
       "    }\n",
       "</style>\n",
       "<table border=\"1\" class=\"dataframe\">\n",
       "  <thead>\n",
       "    <tr style=\"text-align: right;\">\n",
       "      <th></th>\n",
       "      <th>7</th>\n",
       "      <th>3</th>\n",
       "      <th>8</th>\n",
       "      <th>13</th>\n",
       "      <th>11</th>\n",
       "    </tr>\n",
       "  </thead>\n",
       "  <tbody>\n",
       "    <tr>\n",
       "      <th>0</th>\n",
       "      <td>{'1-26': '4', '1-23': '4', '1-28': '5', '1-21'...</td>\n",
       "      <td>{'1-1': '4', '2-1': '3', '2-2': '3', '2-3': '2...</td>\n",
       "      <td>{'3-1': '3', '4-1': '3', '5-1': '2', '6-1': ['...</td>\n",
       "      <td>{'1-1': 'Non-Binary', '2-1': '35-39 years old'...</td>\n",
       "      <td>{'1-1': '6', '2-1': '5', '2-2': '4', '2-3': '4...</td>\n",
       "    </tr>\n",
       "    <tr>\n",
       "      <th>1</th>\n",
       "      <td>{'1-28': '7', '1-26': '7', '1-25': '7', '1-27'...</td>\n",
       "      <td>{'1-1': '6', '2-1': '6', '2-2': '6', '2-3': '5...</td>\n",
       "      <td>{'1-1': '7', '1-2': '6', '1-3': '7', '1-4': '6...</td>\n",
       "      <td>{'1-1': 'Man', '2-1': 'I prefer not to answer'...</td>\n",
       "      <td>{'1-1': '6', '2-1': '5', '2-2': '5', '2-3': '3...</td>\n",
       "    </tr>\n",
       "  </tbody>\n",
       "</table>\n",
       "</div>"
      ],
      "text/plain": [
       "                                                   7  \\\n",
       "0  {'1-26': '4', '1-23': '4', '1-28': '5', '1-21'...   \n",
       "1  {'1-28': '7', '1-26': '7', '1-25': '7', '1-27'...   \n",
       "\n",
       "                                                   3  \\\n",
       "0  {'1-1': '4', '2-1': '3', '2-2': '3', '2-3': '2...   \n",
       "1  {'1-1': '6', '2-1': '6', '2-2': '6', '2-3': '5...   \n",
       "\n",
       "                                                   8  \\\n",
       "0  {'3-1': '3', '4-1': '3', '5-1': '2', '6-1': ['...   \n",
       "1  {'1-1': '7', '1-2': '6', '1-3': '7', '1-4': '6...   \n",
       "\n",
       "                                                  13  \\\n",
       "0  {'1-1': 'Non-Binary', '2-1': '35-39 years old'...   \n",
       "1  {'1-1': 'Man', '2-1': 'I prefer not to answer'...   \n",
       "\n",
       "                                                  11  \n",
       "0  {'1-1': '6', '2-1': '5', '2-2': '4', '2-3': '4...  \n",
       "1  {'1-1': '6', '2-1': '5', '2-2': '5', '2-3': '3...  "
      ]
     },
     "execution_count": 8,
     "metadata": {},
     "output_type": "execute_result"
    }
   ],
   "source": [
    "pd.DataFrame(survey_response)"
   ]
  },
  {
   "cell_type": "code",
   "execution_count": null,
   "metadata": {},
   "outputs": [],
   "source": []
  }
 ],
 "metadata": {
  "kernelspec": {
   "display_name": "Python 3.10.6 64-bit",
   "language": "python",
   "name": "python3"
  },
  "language_info": {
   "codemirror_mode": {
    "name": "ipython",
    "version": 3
   },
   "file_extension": ".py",
   "mimetype": "text/x-python",
   "name": "python",
   "nbconvert_exporter": "python",
   "pygments_lexer": "ipython3",
   "version": "3.10.6"
  },
  "orig_nbformat": 4,
  "vscode": {
   "interpreter": {
    "hash": "916dbcbb3f70747c44a77c7bcd40155683ae19c65e1c03b4aa3499c5328201f1"
   }
  }
 },
 "nbformat": 4,
 "nbformat_minor": 2
}
