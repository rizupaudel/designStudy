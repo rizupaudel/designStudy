{
 "cells": [
  {
   "cell_type": "code",
   "execution_count": 23,
   "metadata": {},
   "outputs": [],
   "source": [
    "import json\n",
    "from collections import defaultdict\n",
    "\n",
    "def get_response(fname):\n",
    "    with open(fname, 'r') as f:\n",
    "        data = f.read()\n",
    "\n",
    "    response = json.loads(data)\n",
    "    response.pop('page_id')\n",
    "\n",
    "    pid_resp = defaultdict(dict)\n",
    "    pass_resp = defaultdict(str)\n",
    "    for k, v in response.items():\n",
    "        if 'response' in k:\n",
    "            temp = k.split(\"_\")\n",
    "            pid = temp[0].strip('p')\n",
    "            v = json.loads(v)\n",
    "            pid_resp[pid].update(v)\n",
    "        else:\n",
    "            pass_resp[k] = v\n",
    "    return [pass_resp, pid_resp]"
   ]
  },
  {
   "cell_type": "code",
   "execution_count": 26,
   "metadata": {},
   "outputs": [
    {
     "name": "stdout",
     "output_type": "stream",
     "text": [
      "1 defaultdict(<class 'str'>, {'password2': 'blahblahblah!', 'password1': 'blahblahblah'})\n",
      "2 defaultdict(<class 'str'>, {'password1': 'aa', 'password2': 'dddd', 'password2_recall2': 'dd'})\n",
      "3 defaultdict(<class 'str'>, {'password1': 'aa', 'password2': 'pop'})\n",
      "4 defaultdict(<class 'str'>, {'password2': '12', 'password1': '12'})\n",
      "5 defaultdict(<class 'str'>, {'password1': 'aa', 'password2': 'wsqsas', 'password2_recall2': 'wsawqs', 'password1_recall2': 'qs'})\n",
      "6 defaultdict(<class 'str'>, {'password2': 's', 'password1': 'qq', 'password2_recall2': 'e', 'password1_recall2': 'ss'})\n",
      "7 defaultdict(<class 'str'>, {'password1': 'Test123', 'password2': 'Test123'})\n",
      "8 defaultdict(<class 'str'>, {'password1': 'password', 'password2': 'password'})\n",
      "9 defaultdict(<class 'str'>, {'password1': 'test123', 'password2': 'test123'})\n",
      "10 defaultdict(<class 'str'>, {})\n"
     ]
    }
   ],
   "source": [
    "import os\n",
    "fpath = './response'\n",
    "for i, fname in enumerate(os.listdir(fpath)):\n",
    "    pss, pid = get_response(os.path.join(fpath, fname))\n",
    "    print(i+1, pss)\n"
   ]
  },
  {
   "cell_type": "code",
   "execution_count": null,
   "metadata": {},
   "outputs": [],
   "source": []
  }
 ],
 "metadata": {
  "kernelspec": {
   "display_name": "Python 3.10.6 64-bit",
   "language": "python",
   "name": "python3"
  },
  "language_info": {
   "codemirror_mode": {
    "name": "ipython",
    "version": 3
   },
   "file_extension": ".py",
   "mimetype": "text/x-python",
   "name": "python",
   "nbconvert_exporter": "python",
   "pygments_lexer": "ipython3",
   "version": "3.10.6"
  },
  "orig_nbformat": 4,
  "vscode": {
   "interpreter": {
    "hash": "916dbcbb3f70747c44a77c7bcd40155683ae19c65e1c03b4aa3499c5328201f1"
   }
  }
 },
 "nbformat": 4,
 "nbformat_minor": 2
}
