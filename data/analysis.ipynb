{
 "cells": [
  {
   "cell_type": "code",
   "execution_count": 17,
   "metadata": {},
   "outputs": [],
   "source": [
    "exec(open(\"cleanup.py\").read())"
   ]
  },
  {
   "cell_type": "code",
   "execution_count": 2,
   "metadata": {},
   "outputs": [],
   "source": [
    "import json\n",
    "from collections import defaultdict\n",
    "\n",
    "def get_response(fname):\n",
    "    with open(fname, 'r') as f:\n",
    "        data = f.read()\n",
    "\n",
    "    response = json.loads(data)\n",
    "\n",
    "    surv_resp = defaultdict(dict)\n",
    "    pass_resp = defaultdict(str)\n",
    "    time_resp = defaultdict(str)\n",
    "\n",
    "    for k, v in response.items():\n",
    "        if 'response' in k:\n",
    "            temp = k.split(\"_\")\n",
    "            pid = temp[0].strip('p')\n",
    "            v = json.loads(v)\n",
    "            surv_resp[pid].update(v)\n",
    "        elif 'time' in k:\n",
    "            temp = k.split(\"_\")\n",
    "            pid = temp[0]\n",
    "            time_resp[pid] = float(v)\n",
    "        elif 'password' in k:\n",
    "            pass_resp[k] = v\n",
    "\n",
    "    return (pass_resp, time_resp, surv_resp)"
   ]
  },
  {
   "cell_type": "code",
   "execution_count": 3,
   "metadata": {},
   "outputs": [],
   "source": [
    "page_map = {\n",
    "    '0': 'startstudy',\n",
    "    '1': 'fpass',\n",
    "    '2': 'fcog',\n",
    "    '3': 'fpasssurvey',\n",
    "    '4': 'fpassrecall',\n",
    "    '5': 'pagegif',\n",
    "    '6': 'desinint',\n",
    "    '7': 'quest',\n",
    "    '8': 'csquest',\n",
    "    '9': 'motivation',\n",
    "    '10': 'spass',\n",
    "    '11': 'scog',\n",
    "    '12': 'spasssurvey',\n",
    "    '13': 'spassrecall',\n",
    "    '14': 'demo',\n",
    "    '15': 'thanks',\n",
    "}"
   ]
  },
  {
   "cell_type": "code",
   "execution_count": null,
   "metadata": {},
   "outputs": [],
   "source": [
    "cat_map = {\n",
    "    'Perspicuity': [1, 2, 3, 4],\n",
    "    'Stimulation': [5, 7, 8, 9],\n",
    "    'Novelty': [10, 11, 12, 13],\n",
    "    'Aesthetics': [14, 16, 17, 18],\n",
    "    'Usefulness': [19, 20, 21, 22],\n",
    "    'Clarity': [23, 24, 25, 26],\n",
    "    'Engagement': [27],\n",
    "    'Informative': [28],\n",
    "    'Attention': [6, 15, 29]\n",
    "}"
   ]
  },
  {
   "cell_type": "code",
   "execution_count": 32,
   "metadata": {},
   "outputs": [],
   "source": [
    "import os\n",
    "fpath = './responses'\n",
    "password_response = []\n",
    "time_response = []\n",
    "survey_response = []\n",
    "for i, fname in enumerate(os.listdir(fpath)):\n",
    "    pss, tim, sur = get_response(os.path.join(fpath, fname))\n",
    "    password_response.append(pss)\n",
    "    time_response.append(tim)\n",
    "    survey_response.append(sur)"
   ]
  },
  {
   "cell_type": "code",
   "execution_count": 33,
   "metadata": {},
   "outputs": [
    {
     "data": {
      "text/html": [
       "<div>\n",
       "<style scoped>\n",
       "    .dataframe tbody tr th:only-of-type {\n",
       "        vertical-align: middle;\n",
       "    }\n",
       "\n",
       "    .dataframe tbody tr th {\n",
       "        vertical-align: top;\n",
       "    }\n",
       "\n",
       "    .dataframe thead th {\n",
       "        text-align: right;\n",
       "    }\n",
       "</style>\n",
       "<table border=\"1\" class=\"dataframe\">\n",
       "  <thead>\n",
       "    <tr style=\"text-align: right;\">\n",
       "      <th></th>\n",
       "      <th>password1</th>\n",
       "      <th>password1_recall1</th>\n",
       "      <th>password2</th>\n",
       "      <th>password2_recall1</th>\n",
       "      <th>password2_recall2</th>\n",
       "      <th>password2_recall3</th>\n",
       "    </tr>\n",
       "  </thead>\n",
       "  <tbody>\n",
       "    <tr>\n",
       "      <th>0</th>\n",
       "      <td>ramropassword@09</td>\n",
       "      <td>NaN</td>\n",
       "      <td>malekosaasan@1994</td>\n",
       "      <td>malekosasan@1994</td>\n",
       "      <td>maalekosaasan@19944</td>\n",
       "      <td>maalekosaasan@1994</td>\n",
       "    </tr>\n",
       "    <tr>\n",
       "      <th>1</th>\n",
       "      <td>bankkoaccount@123</td>\n",
       "      <td>bankkoaccount@1233</td>\n",
       "      <td>ishouldcreatestrongpassword@123</td>\n",
       "      <td>NaN</td>\n",
       "      <td>NaN</td>\n",
       "      <td>NaN</td>\n",
       "    </tr>\n",
       "  </tbody>\n",
       "</table>\n",
       "</div>"
      ],
      "text/plain": [
       "           password1   password1_recall1                        password2  \\\n",
       "0   ramropassword@09                 NaN                malekosaasan@1994   \n",
       "1  bankkoaccount@123  bankkoaccount@1233  ishouldcreatestrongpassword@123   \n",
       "\n",
       "  password2_recall1    password2_recall2   password2_recall3  \n",
       "0  malekosasan@1994  maalekosaasan@19944  maalekosaasan@1994  \n",
       "1               NaN                  NaN                 NaN  "
      ]
     },
     "execution_count": 33,
     "metadata": {},
     "output_type": "execute_result"
    }
   ],
   "source": [
    "import pandas as pd\n",
    "password_response_df = pd.DataFrame(password_response)\n",
    "password_response_df.sort_index(axis=1)"
   ]
  },
  {
   "cell_type": "code",
   "execution_count": 42,
   "metadata": {},
   "outputs": [
    {
     "data": {
      "text/html": [
       "<div>\n",
       "<style scoped>\n",
       "    .dataframe tbody tr th:only-of-type {\n",
       "        vertical-align: middle;\n",
       "    }\n",
       "\n",
       "    .dataframe tbody tr th {\n",
       "        vertical-align: top;\n",
       "    }\n",
       "\n",
       "    .dataframe thead th {\n",
       "        text-align: right;\n",
       "    }\n",
       "</style>\n",
       "<table border=\"1\" class=\"dataframe\">\n",
       "  <thead>\n",
       "    <tr style=\"text-align: right;\">\n",
       "      <th></th>\n",
       "      <th>0</th>\n",
       "      <th>1</th>\n",
       "      <th>2</th>\n",
       "      <th>3</th>\n",
       "      <th>4</th>\n",
       "      <th>5</th>\n",
       "      <th>6</th>\n",
       "      <th>7</th>\n",
       "      <th>8</th>\n",
       "      <th>9</th>\n",
       "      <th>10</th>\n",
       "      <th>11</th>\n",
       "      <th>12</th>\n",
       "      <th>13</th>\n",
       "    </tr>\n",
       "  </thead>\n",
       "  <tbody>\n",
       "    <tr>\n",
       "      <th>0</th>\n",
       "      <td>15.353</td>\n",
       "      <td>35.620</td>\n",
       "      <td>4.721</td>\n",
       "      <td>76.599</td>\n",
       "      <td>13.446</td>\n",
       "      <td>16.145</td>\n",
       "      <td>68.430</td>\n",
       "      <td>148.547</td>\n",
       "      <td>129.065</td>\n",
       "      <td>12.815</td>\n",
       "      <td>78.915</td>\n",
       "      <td>8.332</td>\n",
       "      <td>59.734</td>\n",
       "      <td>29.451</td>\n",
       "    </tr>\n",
       "    <tr>\n",
       "      <th>1</th>\n",
       "      <td>26.206</td>\n",
       "      <td>37.073</td>\n",
       "      <td>26.425</td>\n",
       "      <td>78.942</td>\n",
       "      <td>26.393</td>\n",
       "      <td>14.027</td>\n",
       "      <td>32.727</td>\n",
       "      <td>175.211</td>\n",
       "      <td>93.015</td>\n",
       "      <td>22.265</td>\n",
       "      <td>44.518</td>\n",
       "      <td>19.347</td>\n",
       "      <td>92.398</td>\n",
       "      <td>20.939</td>\n",
       "    </tr>\n",
       "  </tbody>\n",
       "</table>\n",
       "</div>"
      ],
      "text/plain": [
       "        0       1       2       3       4       5       6        7        8  \\\n",
       "0  15.353  35.620   4.721  76.599  13.446  16.145  68.430  148.547  129.065   \n",
       "1  26.206  37.073  26.425  78.942  26.393  14.027  32.727  175.211   93.015   \n",
       "\n",
       "        9      10      11      12      13  \n",
       "0  12.815  78.915   8.332  59.734  29.451  \n",
       "1  22.265  44.518  19.347  92.398  20.939  "
      ]
     },
     "execution_count": 42,
     "metadata": {},
     "output_type": "execute_result"
    }
   ],
   "source": [
    "page_time_df = pd.DataFrame(time_response)\n",
    "page_time_df.sort_index(axis=1, key=lambda x: x.astype(int))"
   ]
  },
  {
   "cell_type": "code",
   "execution_count": 43,
   "metadata": {},
   "outputs": [
    {
     "data": {
      "text/html": [
       "<div>\n",
       "<style scoped>\n",
       "    .dataframe tbody tr th:only-of-type {\n",
       "        vertical-align: middle;\n",
       "    }\n",
       "\n",
       "    .dataframe tbody tr th {\n",
       "        vertical-align: top;\n",
       "    }\n",
       "\n",
       "    .dataframe thead th {\n",
       "        text-align: right;\n",
       "    }\n",
       "</style>\n",
       "<table border=\"1\" class=\"dataframe\">\n",
       "  <thead>\n",
       "    <tr style=\"text-align: right;\">\n",
       "      <th></th>\n",
       "      <th>page</th>\n",
       "      <th>time</th>\n",
       "    </tr>\n",
       "  </thead>\n",
       "  <tbody>\n",
       "    <tr>\n",
       "      <th>0</th>\n",
       "      <td>quest</td>\n",
       "      <td>161.8790</td>\n",
       "    </tr>\n",
       "    <tr>\n",
       "      <th>1</th>\n",
       "      <td>csquest</td>\n",
       "      <td>111.0400</td>\n",
       "    </tr>\n",
       "    <tr>\n",
       "      <th>2</th>\n",
       "      <td>fpasssurvey</td>\n",
       "      <td>77.7705</td>\n",
       "    </tr>\n",
       "    <tr>\n",
       "      <th>3</th>\n",
       "      <td>spasssurvey</td>\n",
       "      <td>76.0660</td>\n",
       "    </tr>\n",
       "    <tr>\n",
       "      <th>4</th>\n",
       "      <td>spass</td>\n",
       "      <td>61.7165</td>\n",
       "    </tr>\n",
       "  </tbody>\n",
       "</table>\n",
       "</div>"
      ],
      "text/plain": [
       "          page      time\n",
       "0        quest  161.8790\n",
       "1      csquest  111.0400\n",
       "2  fpasssurvey   77.7705\n",
       "3  spasssurvey   76.0660\n",
       "4        spass   61.7165"
      ]
     },
     "execution_count": 43,
     "metadata": {},
     "output_type": "execute_result"
    }
   ],
   "source": [
    "# top 5 pages with higher time\n",
    "top5 = pd.DataFrame(columns=['page', 'time'])\n",
    "for i, data in page_time_df.mean().sort_values(ascending=False).head(5).items():\n",
    "    top5 = top5.append(pd.DataFrame([[page_map.get(i), data]], columns=top5.columns), ignore_index=True)\n",
    "\n",
    "top5"
   ]
  },
  {
   "cell_type": "code",
   "execution_count": 16,
   "metadata": {},
   "outputs": [
    {
     "data": {
      "text/html": [
       "<div>\n",
       "<style scoped>\n",
       "    .dataframe tbody tr th:only-of-type {\n",
       "        vertical-align: middle;\n",
       "    }\n",
       "\n",
       "    .dataframe tbody tr th {\n",
       "        vertical-align: top;\n",
       "    }\n",
       "\n",
       "    .dataframe thead th {\n",
       "        text-align: right;\n",
       "    }\n",
       "</style>\n",
       "<table border=\"1\" class=\"dataframe\">\n",
       "  <thead>\n",
       "    <tr style=\"text-align: right;\">\n",
       "      <th></th>\n",
       "      <th>7</th>\n",
       "      <th>12</th>\n",
       "      <th>3</th>\n",
       "      <th>8</th>\n",
       "      <th>14</th>\n",
       "    </tr>\n",
       "  </thead>\n",
       "  <tbody>\n",
       "    <tr>\n",
       "      <th>0</th>\n",
       "      <td>{'1-21': '6', '1-25': '5', '1-23': '4', '1-24'...</td>\n",
       "      <td>{'1-1': '7', '2-1': '6', '2-2': '1', '2-3': '1...</td>\n",
       "      <td>{'1-1': '7', '2-1': '1', '2-2': '2', '2-3': '1...</td>\n",
       "      <td>{'4-1': '3', '6-1': ['Email', 'Financial Websi...</td>\n",
       "      <td>{'1-1': 'Woman', '2-1': '25-29 years old', '3-...</td>\n",
       "    </tr>\n",
       "  </tbody>\n",
       "</table>\n",
       "</div>"
      ],
      "text/plain": [
       "                                                   7  \\\n",
       "0  {'1-21': '6', '1-25': '5', '1-23': '4', '1-24'...   \n",
       "\n",
       "                                                  12  \\\n",
       "0  {'1-1': '7', '2-1': '6', '2-2': '1', '2-3': '1...   \n",
       "\n",
       "                                                   3  \\\n",
       "0  {'1-1': '7', '2-1': '1', '2-2': '2', '2-3': '1...   \n",
       "\n",
       "                                                   8  \\\n",
       "0  {'4-1': '3', '6-1': ['Email', 'Financial Websi...   \n",
       "\n",
       "                                                  14  \n",
       "0  {'1-1': 'Woman', '2-1': '25-29 years old', '3-...  "
      ]
     },
     "execution_count": 16,
     "metadata": {},
     "output_type": "execute_result"
    }
   ],
   "source": [
    "pd.DataFrame(survey_response)"
   ]
  },
  {
   "cell_type": "code",
   "execution_count": null,
   "metadata": {},
   "outputs": [],
   "source": []
  }
 ],
 "metadata": {
  "kernelspec": {
   "display_name": "base",
   "language": "python",
   "name": "python3"
  },
  "language_info": {
   "codemirror_mode": {
    "name": "ipython",
    "version": 3
   },
   "file_extension": ".py",
   "mimetype": "text/x-python",
   "name": "python",
   "nbconvert_exporter": "python",
   "pygments_lexer": "ipython3",
   "version": "3.8.8"
  },
  "orig_nbformat": 4,
  "vscode": {
   "interpreter": {
    "hash": "a7156950e440dfa2ad8ddabc276de79f590889e0e9da6c6622eef2b5a4df730d"
   }
  }
 },
 "nbformat": 4,
 "nbformat_minor": 2
}
